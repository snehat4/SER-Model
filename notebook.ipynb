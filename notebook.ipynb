{
 "cells": [
  {
   "cell_type": "code",
   "execution_count": 1,
   "id": "4fa20b52",
   "metadata": {
    "scrolled": true
   },
   "outputs": [
    {
     "name": "stdout",
     "output_type": "stream",
     "text": [
      "Requirement already satisfied: librosa in c:\\users\\kunal t\\anaconda3\\lib\\site-packages (0.10.2.post1)Note: you may need to restart the kernel to use updated packages.\n",
      "\n",
      "Requirement already satisfied: pydub in c:\\users\\kunal t\\anaconda3\\lib\\site-packages (0.25.1)\n",
      "Requirement already satisfied: numpy in c:\\users\\kunal t\\anaconda3\\lib\\site-packages (1.24.3)\n",
      "Requirement already satisfied: pandas in c:\\users\\kunal t\\anaconda3\\lib\\site-packages (2.0.3)\n",
      "Requirement already satisfied: matplotlib in c:\\users\\kunal t\\anaconda3\\lib\\site-packages (3.7.2)\n",
      "Requirement already satisfied: audioread>=2.1.9 in c:\\users\\kunal t\\anaconda3\\lib\\site-packages (from librosa) (3.0.1)\n",
      "Requirement already satisfied: scipy>=1.2.0 in c:\\users\\kunal t\\anaconda3\\lib\\site-packages (from librosa) (1.11.1)\n",
      "Requirement already satisfied: scikit-learn>=0.20.0 in c:\\users\\kunal t\\anaconda3\\lib\\site-packages (from librosa) (1.3.0)\n",
      "Requirement already satisfied: joblib>=0.14 in c:\\users\\kunal t\\anaconda3\\lib\\site-packages (from librosa) (1.2.0)\n",
      "Requirement already satisfied: decorator>=4.3.0 in c:\\users\\kunal t\\anaconda3\\lib\\site-packages (from librosa) (5.1.1)\n",
      "Requirement already satisfied: numba>=0.51.0 in c:\\users\\kunal t\\anaconda3\\lib\\site-packages (from librosa) (0.57.1)\n",
      "Requirement already satisfied: soundfile>=0.12.1 in c:\\users\\kunal t\\anaconda3\\lib\\site-packages (from librosa) (0.12.1)\n",
      "Requirement already satisfied: pooch>=1.1 in c:\\users\\kunal t\\anaconda3\\lib\\site-packages (from librosa) (1.8.2)\n",
      "Requirement already satisfied: soxr>=0.3.2 in c:\\users\\kunal t\\anaconda3\\lib\\site-packages (from librosa) (0.5.0.post1)\n",
      "Requirement already satisfied: typing-extensions>=4.1.1 in c:\\users\\kunal t\\anaconda3\\lib\\site-packages (from librosa) (4.7.1)\n",
      "Requirement already satisfied: lazy-loader>=0.1 in c:\\users\\kunal t\\anaconda3\\lib\\site-packages (from librosa) (0.2)\n",
      "Requirement already satisfied: msgpack>=1.0 in c:\\users\\kunal t\\anaconda3\\lib\\site-packages (from librosa) (1.0.3)\n",
      "Requirement already satisfied: python-dateutil>=2.8.2 in c:\\users\\kunal t\\anaconda3\\lib\\site-packages (from pandas) (2.8.2)\n",
      "Requirement already satisfied: pytz>=2020.1 in c:\\users\\kunal t\\anaconda3\\lib\\site-packages (from pandas) (2023.3.post1)\n",
      "Requirement already satisfied: tzdata>=2022.1 in c:\\users\\kunal t\\anaconda3\\lib\\site-packages (from pandas) (2023.3)\n",
      "Requirement already satisfied: contourpy>=1.0.1 in c:\\users\\kunal t\\anaconda3\\lib\\site-packages (from matplotlib) (1.0.5)\n",
      "Requirement already satisfied: cycler>=0.10 in c:\\users\\kunal t\\anaconda3\\lib\\site-packages (from matplotlib) (0.11.0)\n",
      "Requirement already satisfied: fonttools>=4.22.0 in c:\\users\\kunal t\\anaconda3\\lib\\site-packages (from matplotlib) (4.25.0)\n",
      "Requirement already satisfied: kiwisolver>=1.0.1 in c:\\users\\kunal t\\anaconda3\\lib\\site-packages (from matplotlib) (1.4.4)\n",
      "Requirement already satisfied: packaging>=20.0 in c:\\users\\kunal t\\anaconda3\\lib\\site-packages (from matplotlib) (23.1)\n",
      "Requirement already satisfied: pillow>=6.2.0 in c:\\users\\kunal t\\anaconda3\\lib\\site-packages (from matplotlib) (9.4.0)\n",
      "Requirement already satisfied: pyparsing<3.1,>=2.3.1 in c:\\users\\kunal t\\anaconda3\\lib\\site-packages (from matplotlib) (3.0.9)\n",
      "Requirement already satisfied: llvmlite<0.41,>=0.40.0dev0 in c:\\users\\kunal t\\anaconda3\\lib\\site-packages (from numba>=0.51.0->librosa) (0.40.0)\n",
      "Requirement already satisfied: platformdirs>=2.5.0 in c:\\users\\kunal t\\anaconda3\\lib\\site-packages (from pooch>=1.1->librosa) (3.10.0)\n",
      "Requirement already satisfied: requests>=2.19.0 in c:\\users\\kunal t\\anaconda3\\lib\\site-packages (from pooch>=1.1->librosa) (2.31.0)\n",
      "Requirement already satisfied: six>=1.5 in c:\\users\\kunal t\\anaconda3\\lib\\site-packages (from python-dateutil>=2.8.2->pandas) (1.16.0)\n",
      "Requirement already satisfied: threadpoolctl>=2.0.0 in c:\\users\\kunal t\\anaconda3\\lib\\site-packages (from scikit-learn>=0.20.0->librosa) (2.2.0)\n",
      "Requirement already satisfied: cffi>=1.0 in c:\\users\\kunal t\\anaconda3\\lib\\site-packages (from soundfile>=0.12.1->librosa) (1.15.1)\n",
      "Requirement already satisfied: pycparser in c:\\users\\kunal t\\anaconda3\\lib\\site-packages (from cffi>=1.0->soundfile>=0.12.1->librosa) (2.21)\n",
      "Requirement already satisfied: charset-normalizer<4,>=2 in c:\\users\\kunal t\\anaconda3\\lib\\site-packages (from requests>=2.19.0->pooch>=1.1->librosa) (2.0.4)\n",
      "Requirement already satisfied: idna<4,>=2.5 in c:\\users\\kunal t\\anaconda3\\lib\\site-packages (from requests>=2.19.0->pooch>=1.1->librosa) (3.4)\n",
      "Requirement already satisfied: urllib3<3,>=1.21.1 in c:\\users\\kunal t\\anaconda3\\lib\\site-packages (from requests>=2.19.0->pooch>=1.1->librosa) (1.26.16)\n",
      "Requirement already satisfied: certifi>=2017.4.17 in c:\\users\\kunal t\\anaconda3\\lib\\site-packages (from requests>=2.19.0->pooch>=1.1->librosa) (2024.6.2)\n"
     ]
    }
   ],
   "source": [
    "pip install librosa pydub numpy pandas matplotlib"
   ]
  },
  {
   "cell_type": "code",
   "execution_count": 2,
   "id": "ed6cda42",
   "metadata": {},
   "outputs": [
    {
     "name": "stdout",
     "output_type": "stream",
     "text": [
      "Requirement already satisfied: noisereduce in c:\\users\\kunal t\\anaconda3\\lib\\site-packages (3.0.2)\n",
      "Requirement already satisfied: scipy in c:\\users\\kunal t\\anaconda3\\lib\\site-packages (from noisereduce) (1.11.1)\n",
      "Requirement already satisfied: matplotlib in c:\\users\\kunal t\\anaconda3\\lib\\site-packages (from noisereduce) (3.7.2)\n",
      "Requirement already satisfied: librosa in c:\\users\\kunal t\\anaconda3\\lib\\site-packages (from noisereduce) (0.10.2.post1)\n",
      "Requirement already satisfied: numpy in c:\\users\\kunal t\\anaconda3\\lib\\site-packages (from noisereduce) (1.24.3)\n",
      "Requirement already satisfied: tqdm in c:\\users\\kunal t\\anaconda3\\lib\\site-packages (from noisereduce) (4.65.0)\n",
      "Requirement already satisfied: audioread>=2.1.9 in c:\\users\\kunal t\\anaconda3\\lib\\site-packages (from librosa->noisereduce) (3.0.1)\n",
      "Requirement already satisfied: scikit-learn>=0.20.0 in c:\\users\\kunal t\\anaconda3\\lib\\site-packages (from librosa->noisereduce) (1.3.0)\n",
      "Requirement already satisfied: joblib>=0.14 in c:\\users\\kunal t\\anaconda3\\lib\\site-packages (from librosa->noisereduce) (1.2.0)\n",
      "Requirement already satisfied: decorator>=4.3.0 in c:\\users\\kunal t\\anaconda3\\lib\\site-packages (from librosa->noisereduce) (5.1.1)\n",
      "Requirement already satisfied: numba>=0.51.0 in c:\\users\\kunal t\\anaconda3\\lib\\site-packages (from librosa->noisereduce) (0.57.1)\n",
      "Requirement already satisfied: soundfile>=0.12.1 in c:\\users\\kunal t\\anaconda3\\lib\\site-packages (from librosa->noisereduce) (0.12.1)\n",
      "Requirement already satisfied: pooch>=1.1 in c:\\users\\kunal t\\anaconda3\\lib\\site-packages (from librosa->noisereduce) (1.8.2)\n",
      "Requirement already satisfied: soxr>=0.3.2 in c:\\users\\kunal t\\anaconda3\\lib\\site-packages (from librosa->noisereduce) (0.5.0.post1)\n",
      "Requirement already satisfied: typing-extensions>=4.1.1 in c:\\users\\kunal t\\anaconda3\\lib\\site-packages (from librosa->noisereduce) (4.7.1)\n",
      "Requirement already satisfied: lazy-loader>=0.1 in c:\\users\\kunal t\\anaconda3\\lib\\site-packages (from librosa->noisereduce) (0.2)\n",
      "Requirement already satisfied: msgpack>=1.0 in c:\\users\\kunal t\\anaconda3\\lib\\site-packages (from librosa->noisereduce) (1.0.3)\n",
      "Requirement already satisfied: contourpy>=1.0.1 in c:\\users\\kunal t\\anaconda3\\lib\\site-packages (from matplotlib->noisereduce) (1.0.5)\n",
      "Requirement already satisfied: cycler>=0.10 in c:\\users\\kunal t\\anaconda3\\lib\\site-packages (from matplotlib->noisereduce) (0.11.0)\n",
      "Requirement already satisfied: fonttools>=4.22.0 in c:\\users\\kunal t\\anaconda3\\lib\\site-packages (from matplotlib->noisereduce) (4.25.0)\n",
      "Requirement already satisfied: kiwisolver>=1.0.1 in c:\\users\\kunal t\\anaconda3\\lib\\site-packages (from matplotlib->noisereduce) (1.4.4)\n",
      "Requirement already satisfied: packaging>=20.0 in c:\\users\\kunal t\\anaconda3\\lib\\site-packages (from matplotlib->noisereduce) (23.1)\n",
      "Requirement already satisfied: pillow>=6.2.0 in c:\\users\\kunal t\\anaconda3\\lib\\site-packages (from matplotlib->noisereduce) (9.4.0)\n",
      "Requirement already satisfied: pyparsing<3.1,>=2.3.1 in c:\\users\\kunal t\\anaconda3\\lib\\site-packages (from matplotlib->noisereduce) (3.0.9)\n",
      "Requirement already satisfied: python-dateutil>=2.7 in c:\\users\\kunal t\\anaconda3\\lib\\site-packages (from matplotlib->noisereduce) (2.8.2)\n",
      "Requirement already satisfied: colorama in c:\\users\\kunal t\\anaconda3\\lib\\site-packages (from tqdm->noisereduce) (0.4.6)\n",
      "Requirement already satisfied: llvmlite<0.41,>=0.40.0dev0 in c:\\users\\kunal t\\anaconda3\\lib\\site-packages (from numba>=0.51.0->librosa->noisereduce) (0.40.0)\n",
      "Requirement already satisfied: platformdirs>=2.5.0 in c:\\users\\kunal t\\anaconda3\\lib\\site-packages (from pooch>=1.1->librosa->noisereduce) (3.10.0)\n",
      "Requirement already satisfied: requests>=2.19.0 in c:\\users\\kunal t\\anaconda3\\lib\\site-packages (from pooch>=1.1->librosa->noisereduce) (2.31.0)\n",
      "Requirement already satisfied: six>=1.5 in c:\\users\\kunal t\\anaconda3\\lib\\site-packages (from python-dateutil>=2.7->matplotlib->noisereduce) (1.16.0)\n",
      "Requirement already satisfied: threadpoolctl>=2.0.0 in c:\\users\\kunal t\\anaconda3\\lib\\site-packages (from scikit-learn>=0.20.0->librosa->noisereduce) (2.2.0)\n",
      "Requirement already satisfied: cffi>=1.0 in c:\\users\\kunal t\\anaconda3\\lib\\site-packages (from soundfile>=0.12.1->librosa->noisereduce) (1.15.1)\n",
      "Requirement already satisfied: pycparser in c:\\users\\kunal t\\anaconda3\\lib\\site-packages (from cffi>=1.0->soundfile>=0.12.1->librosa->noisereduce) (2.21)\n",
      "Requirement already satisfied: charset-normalizer<4,>=2 in c:\\users\\kunal t\\anaconda3\\lib\\site-packages (from requests>=2.19.0->pooch>=1.1->librosa->noisereduce) (2.0.4)\n",
      "Requirement already satisfied: idna<4,>=2.5 in c:\\users\\kunal t\\anaconda3\\lib\\site-packages (from requests>=2.19.0->pooch>=1.1->librosa->noisereduce) (3.4)\n",
      "Requirement already satisfied: urllib3<3,>=1.21.1 in c:\\users\\kunal t\\anaconda3\\lib\\site-packages (from requests>=2.19.0->pooch>=1.1->librosa->noisereduce) (1.26.16)\n",
      "Requirement already satisfied: certifi>=2017.4.17 in c:\\users\\kunal t\\anaconda3\\lib\\site-packages (from requests>=2.19.0->pooch>=1.1->librosa->noisereduce) (2024.6.2)\n",
      "Note: you may need to restart the kernel to use updated packages.\n"
     ]
    }
   ],
   "source": [
    "pip install noisereduce"
   ]
  },
  {
   "cell_type": "code",
   "execution_count": 1,
   "id": "f9155660",
   "metadata": {},
   "outputs": [],
   "source": [
    "import os\n",
    "import librosa\n",
    "import wave\n",
    "import noisereduce as nr\n",
    "import numpy as np\n",
    "import pandas as pd\n",
    "import matplotlib.pyplot as plt\n",
    "from sklearn.model_selection import train_test_split\n",
    "import audioread"
   ]
  },
  {
   "cell_type": "markdown",
   "id": "45d08535",
   "metadata": {},
   "source": [
    "### Loading audio files"
   ]
  },
  {
   "cell_type": "code",
   "execution_count": 2,
   "id": "e29f37f2",
   "metadata": {
    "scrolled": true
   },
   "outputs": [
    {
     "name": "stdout",
     "output_type": "stream",
     "text": [
      "Total .mp3 files found: 7442\n",
      "Total .wav files found: 7442\n",
      "Total audio files found: 14884\n"
     ]
    }
   ],
   "source": [
    "# Define the path to the dataset\n",
    "mp3_folder_path = 'C:\\\\Users\\\\Kunal T\\\\OneDrive\\\\Documents\\\\EmoDetect_Sneha\\\\CREMA-D\\\\AudioMP3'\n",
    "wav_folder_path = 'C:\\\\Users\\\\Kunal T\\\\OneDrive\\\\Documents\\\\EmoDetect_Sneha\\\\CREMA-D\\\\AudioWAV'\n",
    "\n",
    "# Get a list of audio file paths\n",
    "def get_audio_files(directory, extensions=['.mp3', '.wav']):\n",
    "    audio_files = []\n",
    "    for root, _, files in os.walk(directory):\n",
    "        for file in files:\n",
    "             if any(file.endswith(ext) for ext in extensions):\n",
    "                audio_files.append(os.path.join(root, file))\n",
    "    return audio_files\n",
    "\n",
    "# Get all audio file paths\n",
    "mp3_files = get_audio_files(mp3_folder_path, extensions=['.mp3'])\n",
    "wav_files = get_audio_files(wav_folder_path, extensions=['.wav'])\n",
    "\n",
    "# Combine both lists of audio files\n",
    "audio_files = mp3_files + wav_files\n",
    "\n",
    "# Display the number of files loaded\n",
    "print(f\"Total .mp3 files found: {len(mp3_files)}\")\n",
    "print(f\"Total .wav files found: {len(wav_files)}\")\n",
    "print(f\"Total audio files found: {len(audio_files)}\")"
   ]
  },
  {
   "cell_type": "code",
   "execution_count": 5,
   "id": "4b904cff",
   "metadata": {},
   "outputs": [
    {
     "name": "stdout",
     "output_type": "stream",
     "text": [
      "Requirement already satisfied: soundfile in c:\\users\\kunal t\\anaconda3\\lib\\site-packages (0.12.1)\n",
      "Requirement already satisfied: cffi>=1.0 in c:\\users\\kunal t\\anaconda3\\lib\\site-packages (from soundfile) (1.15.1)\n",
      "Requirement already satisfied: pycparser in c:\\users\\kunal t\\anaconda3\\lib\\site-packages (from cffi>=1.0->soundfile) (2.21)\n",
      "Note: you may need to restart the kernel to use updated packages.\n"
     ]
    }
   ],
   "source": [
    "pip install soundfile"
   ]
  },
  {
   "cell_type": "code",
   "execution_count": 6,
   "id": "e66b7c1c",
   "metadata": {
    "scrolled": true
   },
   "outputs": [
    {
     "name": "stdout",
     "output_type": "stream",
     "text": [
      "Requirement already satisfied: librosa in c:\\users\\kunal t\\anaconda3\\lib\\site-packages (0.10.2.post1)\n",
      "Requirement already satisfied: audioread>=2.1.9 in c:\\users\\kunal t\\anaconda3\\lib\\site-packages (from librosa) (3.0.1)\n",
      "Requirement already satisfied: numpy!=1.22.0,!=1.22.1,!=1.22.2,>=1.20.3 in c:\\users\\kunal t\\anaconda3\\lib\\site-packages (from librosa) (1.24.3)\n",
      "Requirement already satisfied: scipy>=1.2.0 in c:\\users\\kunal t\\anaconda3\\lib\\site-packages (from librosa) (1.11.1)\n",
      "Requirement already satisfied: scikit-learn>=0.20.0 in c:\\users\\kunal t\\anaconda3\\lib\\site-packages (from librosa) (1.3.0)\n",
      "Requirement already satisfied: joblib>=0.14 in c:\\users\\kunal t\\anaconda3\\lib\\site-packages (from librosa) (1.2.0)\n",
      "Requirement already satisfied: decorator>=4.3.0 in c:\\users\\kunal t\\anaconda3\\lib\\site-packages (from librosa) (5.1.1)\n",
      "Requirement already satisfied: numba>=0.51.0 in c:\\users\\kunal t\\anaconda3\\lib\\site-packages (from librosa) (0.57.1)\n",
      "Requirement already satisfied: soundfile>=0.12.1 in c:\\users\\kunal t\\anaconda3\\lib\\site-packages (from librosa) (0.12.1)\n",
      "Requirement already satisfied: pooch>=1.1 in c:\\users\\kunal t\\anaconda3\\lib\\site-packages (from librosa) (1.8.2)\n",
      "Requirement already satisfied: soxr>=0.3.2 in c:\\users\\kunal t\\anaconda3\\lib\\site-packages (from librosa) (0.5.0.post1)\n",
      "Requirement already satisfied: typing-extensions>=4.1.1 in c:\\users\\kunal t\\anaconda3\\lib\\site-packages (from librosa) (4.7.1)\n",
      "Requirement already satisfied: lazy-loader>=0.1 in c:\\users\\kunal t\\anaconda3\\lib\\site-packages (from librosa) (0.2)\n",
      "Requirement already satisfied: msgpack>=1.0 in c:\\users\\kunal t\\anaconda3\\lib\\site-packages (from librosa) (1.0.3)\n",
      "Requirement already satisfied: llvmlite<0.41,>=0.40.0dev0 in c:\\users\\kunal t\\anaconda3\\lib\\site-packages (from numba>=0.51.0->librosa) (0.40.0)\n",
      "Requirement already satisfied: platformdirs>=2.5.0 in c:\\users\\kunal t\\anaconda3\\lib\\site-packages (from pooch>=1.1->librosa) (3.10.0)\n",
      "Requirement already satisfied: packaging>=20.0 in c:\\users\\kunal t\\anaconda3\\lib\\site-packages (from pooch>=1.1->librosa) (23.1)\n",
      "Requirement already satisfied: requests>=2.19.0 in c:\\users\\kunal t\\anaconda3\\lib\\site-packages (from pooch>=1.1->librosa) (2.31.0)\n",
      "Requirement already satisfied: threadpoolctl>=2.0.0 in c:\\users\\kunal t\\anaconda3\\lib\\site-packages (from scikit-learn>=0.20.0->librosa) (2.2.0)\n",
      "Requirement already satisfied: cffi>=1.0 in c:\\users\\kunal t\\anaconda3\\lib\\site-packages (from soundfile>=0.12.1->librosa) (1.15.1)\n",
      "Requirement already satisfied: pycparser in c:\\users\\kunal t\\anaconda3\\lib\\site-packages (from cffi>=1.0->soundfile>=0.12.1->librosa) (2.21)\n",
      "Requirement already satisfied: charset-normalizer<4,>=2 in c:\\users\\kunal t\\anaconda3\\lib\\site-packages (from requests>=2.19.0->pooch>=1.1->librosa) (2.0.4)\n",
      "Requirement already satisfied: idna<4,>=2.5 in c:\\users\\kunal t\\anaconda3\\lib\\site-packages (from requests>=2.19.0->pooch>=1.1->librosa) (3.4)\n",
      "Requirement already satisfied: urllib3<3,>=1.21.1 in c:\\users\\kunal t\\anaconda3\\lib\\site-packages (from requests>=2.19.0->pooch>=1.1->librosa) (1.26.16)\n",
      "Requirement already satisfied: certifi>=2017.4.17 in c:\\users\\kunal t\\anaconda3\\lib\\site-packages (from requests>=2.19.0->pooch>=1.1->librosa) (2024.6.2)\n",
      "Note: you may need to restart the kernel to use updated packages.\n"
     ]
    }
   ],
   "source": [
    "pip install --upgrade librosa"
   ]
  },
  {
   "cell_type": "markdown",
   "id": "323ca343",
   "metadata": {},
   "source": [
    "### Handling missing values and checking for corrupted files"
   ]
  },
  {
   "cell_type": "code",
   "execution_count": 3,
   "id": "19da0105",
   "metadata": {},
   "outputs": [],
   "source": [
    "from pydub import AudioSegment"
   ]
  },
  {
   "cell_type": "code",
   "execution_count": 4,
   "id": "734d4266",
   "metadata": {},
   "outputs": [
    {
     "name": "stdout",
     "output_type": "stream",
     "text": [
      "Total audio files processed: 14884\n",
      "Total cleaned audio files: 14884\n",
      "Total corrupted files: 0\n",
      "No corrupted files found.\n"
     ]
    }
   ],
   "source": [
    "# Function to load audio files with error handling\n",
    "def load_audio(file_path, target_sample_rate=16000):\n",
    "    try:\n",
    "        with audioread.audio_open(file_path) as input_file:\n",
    "            audio, sr = librosa.load(file_path, sr=target_sample_rate)\n",
    "            return audio, sr\n",
    "    except Exception as e:\n",
    "        print(f\"Error processing {file_path}: {e}\")\n",
    "        return None, None\n",
    "\n",
    "# Function to get all audio files\n",
    "def get_audio_files(directory, extensions=['.mp3', '.wav']):\n",
    "    audio_files = []\n",
    "    for root, _, files in os.walk(directory):\n",
    "        for file in files:\n",
    "             if any(file.endswith(ext) for ext in extensions):\n",
    "                audio_files.append(os.path.join(root, file))\n",
    "    return audio_files\n",
    "\n",
    "# Get all audio files from both folders\n",
    "mp3_files = get_audio_files(mp3_folder_path, extensions=['.mp3'])\n",
    "wav_files = get_audio_files(wav_folder_path, extensions=['.wav'])\n",
    "audio_files = mp3_files+wav_files\n",
    "\n",
    "# Lists to store clean audio data and corrupted files\n",
    "cleaned_audio_data = []\n",
    "corrupted_files = []\n",
    "\n",
    "# Process and clean all audio files\n",
    "for file_path in audio_files:\n",
    "    cleaned_audio, sr = load_audio(file_path, target_sample_rate=16000)\n",
    "    if cleaned_audio is not None:\n",
    "        cleaned_audio_data.append(cleaned_audio)\n",
    "    else:\n",
    "        corrupted_files.append(file_path)\n",
    "\n",
    "# Display summary\n",
    "print(f\"Total audio files processed: {len(audio_files)}\")\n",
    "print(f\"Total cleaned audio files: {len(cleaned_audio_data)}\")\n",
    "print(f\"Total corrupted files: {len(corrupted_files)}\")\n",
    "\n",
    "# Optionally: log corrupted files\n",
    "if corrupted_files:\n",
    "    with open('corrupted_files_log.txt', 'w') as log_file:\n",
    "        for file in corrupted_files:\n",
    "            log_file.write(file + '\\n')\n",
    "    print(f\"Corrupted files log saved as 'corrupted_files_log.txt'\")\n",
    "else:\n",
    "    print(\"No corrupted files found.\")"
   ]
  },
  {
   "cell_type": "markdown",
   "id": "986f598e",
   "metadata": {},
   "source": [
    "### Removing silence or bg noise"
   ]
  },
  {
   "cell_type": "code",
   "execution_count": 6,
   "id": "e5fe14d9",
   "metadata": {},
   "outputs": [],
   "source": [
    "# Remove silence from the audio\n",
    "def remove_silence(audio_data, sample_rate, top_db=20):\n",
    "    # Trim silence from the beginning and end\n",
    "    trimmed_data, _ = librosa.effects.trim(audio_data, top_db=top_db)\n",
    "    return trimmed_data\n",
    "\n",
    "# Normalize the audio (bg noise)\n",
    "def normalize_audio(audio_data):\n",
    "    normalized_data = librosa.util.normalize(audio_data)\n",
    "    return normalized_data\n",
    "\n",
    "# Clean audio: silence removal, noise reduction, and normalization\n",
    "def clean_audio(file_path):\n",
    "    try:\n",
    "        # Load the audio file\n",
    "        audio_data, sample_rate = librosa.load(file_path, sr=None)\n",
    "\n",
    "        # Remove silence\n",
    "        audio_data = remove_silence(audio_data, sample_rate)\n",
    "\n",
    "        # Apply noise reduction\n",
    "        reduced_noise = nr.reduce_noise(y=audio_data, sr=sample_rate)\n",
    "\n",
    "        # Normalize audio to ensure consistent loudness\n",
    "        normalized_audio = normalize_audio(reduced_noise)\n",
    "\n",
    "        # Return cleaned audio and sample rate\n",
    "        return normalized_audio, sample_rate\n",
    "\n",
    "    except Exception as e:\n",
    "        print(f\"Error processing {file_path}: {e}\")\n",
    "        return None, None\n",
    "    "
   ]
  },
  {
   "cell_type": "markdown",
   "id": "5086e7d0",
   "metadata": {},
   "source": [
    "### Normalizing audio length"
   ]
  },
  {
   "cell_type": "code",
   "execution_count": 7,
   "id": "e91a24f7",
   "metadata": {},
   "outputs": [],
   "source": [
    "def pad_audio(audio_data, sample_rate, duration=2.0):\n",
    "    # Calculate the target number of samples for the specified duration\n",
    "    target_length = int(sample_rate * duration)\n",
    "    # Pad or trim the audio to match the target length\n",
    "    if len(audio_data) > target_length:\n",
    "        return audio_data[:target_length]\n",
    "    else:\n",
    "        return np.pad(audio_data, (0, target_length - len(audio_data)), 'constant')\n"
   ]
  },
  {
   "cell_type": "markdown",
   "id": "d52b61d1",
   "metadata": {},
   "source": [
    "### Visualize the audio data"
   ]
  },
  {
   "cell_type": "code",
   "execution_count": 8,
   "id": "72b4ef1b",
   "metadata": {
    "scrolled": true
   },
   "outputs": [
    {
     "data": {
      "image/png": "[encoded data removed]",
      "text/plain": [
       "<Figure size 1000x400 with 1 Axes>"
      ]
     },
     "metadata": {},
     "output_type": "display_data"
    },
    {
     "name": "stdout",
     "output_type": "stream",
     "text": [
      "Audio file name: C:\\Users\\Kunal T\\OneDrive\\Documents\\EmoDetect_Sneha\\CREMA-D\\AudioMP3\\1009_IWW_SAD_XX.mp3\n"
     ]
    }
   ],
   "source": [
    "def plot_waveform(file_path):\n",
    "    audio_data, sample_rate = librosa.load(file_path, sr=None)\n",
    "    plt.figure(figsize=(10, 4))\n",
    "    librosa.display.waveshow(audio_data, sr=sample_rate)\n",
    "    plt.title('Waveform of the audio')\n",
    "    plt.show()\n",
    "\n",
    "# Plot the waveform of a sample audio file\n",
    "plot_waveform(audio_files[700])\n",
    "print(\"Audio file name:\",audio_files[700])"
   ]
  },
  {
   "cell_type": "markdown",
   "id": "79dfe082",
   "metadata": {},
   "source": [
    "### Extract audio features"
   ]
  },
  {
   "cell_type": "code",
   "execution_count": 9,
   "id": "9d63c109",
   "metadata": {},
   "outputs": [
    {
     "name": "stdout",
     "output_type": "stream",
     "text": [
      "Extracted features shape: (48,)\n",
      "Extracted feature values: [-4.66044037e+02  1.50633331e+02 -9.94114280e-01  1.86096973e+01\n",
      "  1.61165581e+01  1.60749474e+01 -5.09173632e+00 -5.62417364e+00\n",
      " -1.87049925e+00 -1.75249290e+01  2.75197911e+00 -3.26697159e+00\n",
      " -1.43382063e+01  7.20131099e-01 -6.10115647e-01 -1.04393101e+01\n",
      " -5.69911242e+00  5.81940842e+00 -5.95525408e+00 -1.34294395e+01\n",
      "  1.86037198e-01 -5.69904745e-01 -7.14885902e+00 -4.27380228e+00\n",
      " -5.18052959e+00 -5.56034088e+00 -3.66841435e+00 -5.56168890e+00\n",
      " -3.05412841e+00 -2.13752484e+00 -1.24923027e+00 -1.15469718e+00\n",
      " -4.19836378e+00 -4.05553639e-01 -1.88021517e+00 -2.00008273e+00\n",
      " -8.24975967e-01 -2.52311611e+00  4.78549600e-01 -2.53101921e+00\n",
      "  1.92400019e+01  1.08282259e+01  1.48331849e+01  1.58417786e+01\n",
      "  2.06759964e+01  2.72323465e+01  5.40826332e+01  1.94405783e-02]\n"
     ]
    }
   ],
   "source": [
    "def extract_features(file_path):\n",
    "    # Load the audio file\n",
    "    audio_data, sample_rate = librosa.load(file_path, sr=None)\n",
    "    \n",
    "    # Extract MFCCs (Mel-Frequency Cepstral Coefficients)\n",
    "    mfccs = librosa.feature.mfcc(y=audio_data, sr=sample_rate, n_mfcc=40)\n",
    "    # Take the mean of MFCCs over time\n",
    "    mfccs_mean = np.mean(mfccs.T, axis=0)\n",
    "    \n",
    "    # Extract Chroma Features\n",
    "    stft = np.abs(librosa.stft(audio_data))\n",
    "    chroma = librosa.feature.chroma_stft(S=stft, sr=sample_rate)\n",
    "    chroma_mean = np.mean(chroma.T, axis=0)\n",
    "        \n",
    "    # Extract Spectral Contrast\n",
    "    spectral_contrast = librosa.feature.spectral_contrast(y=audio_data, sr=sample_rate)\n",
    "    spectral_contrast_mean = np.mean(spectral_contrast.T, axis=0)\n",
    "    \n",
    "    # Extract Root Mean Square Energy (RMSE)\n",
    "    rmse = librosa.feature.rms(y=audio_data)\n",
    "    rmse_mean = np.mean(rmse.T, axis=0)\n",
    "    \n",
    "    # Combine features into a single array\n",
    "    features = np.hstack((mfccs_mean, spectral_contrast_mean, rmse_mean))\n",
    "    \n",
    "    return features\n",
    "\n",
    "# Test the feature extraction on one file\n",
    "sample_features = extract_features(audio_files[0])\n",
    "print(f\"Extracted features shape: {sample_features.shape}\")\n",
    "# Print the actual feature values\n",
    "print(\"Extracted feature values:\", sample_features)"
   ]
  },
  {
   "cell_type": "code",
   "execution_count": 10,
   "id": "edb61295",
   "metadata": {},
   "outputs": [],
   "source": [
    "# checking if any file is empty or incorrect\n",
    "def load_audio(file_path, target_sample_rate=16000):\n",
    "    try:\n",
    "        with audioread.audio_open(file_path) as input_file:\n",
    "            audio, sr = librosa.load(file_path, sr=target_sample_rate)\n",
    "            if len(audio) == 0:\n",
    "                print(f\"Warning: Loaded audio is empty from {file_path}\")\n",
    "                return None, None\n",
    "            return audio, sr\n",
    "    except Exception as e:\n",
    "        print(f\"Error processing {file_path}: {e}\")\n",
    "        return None, None\n"
   ]
  },
  {
   "cell_type": "markdown",
   "id": "f1536b71",
   "metadata": {},
   "source": [
    "### Checking if SAD files are present"
   ]
  },
  {
   "cell_type": "code",
   "execution_count": 11,
   "id": "f3ac03f5",
   "metadata": {},
   "outputs": [
    {
     "name": "stdout",
     "output_type": "stream",
     "text": [
      "Total number of files labeled as 'SAD': 2542\n"
     ]
    }
   ],
   "source": [
    "#Check File Names for 'SAD'\n",
    "\n",
    "# Count the number of files labeled as \"SAD\"\n",
    "sad_files_count = len([file for file in audio_files if \"SAD\" in file.upper()])  # Adjusting to uppercase to avoid case sensitivity issues\n",
    "\n",
    "# Print the total count of \"SAD\" files\n",
    "print(f\"Total number of files labeled as 'SAD': {sad_files_count}\")"
   ]
  },
  {
   "cell_type": "markdown",
   "id": "e6b36b85",
   "metadata": {},
   "source": [
    "### Label extraction and dataframe for model input"
   ]
  },
  {
   "cell_type": "code",
   "execution_count": 12,
   "id": "4894645a",
   "metadata": {},
   "outputs": [],
   "source": [
    "def get_label(file_path):\n",
    "    # Assuming the label is the part of the file name\n",
    "    file_name = os.path.basename(file_path)\n",
    "    # The emotion label is the third part (index 2) after splitting by underscores\n",
    "    label = file_name.split('_')[2].strip().upper() \n",
    "    #print(f\"Extracted label: {label} from {file_name}\")\n",
    "    return label"
   ]
  },
  {
   "cell_type": "code",
   "execution_count": 13,
   "id": "5521d470",
   "metadata": {},
   "outputs": [
    {
     "name": "stdout",
     "output_type": "stream",
     "text": [
      "Total audio files to process: 14884\n"
     ]
    },
    {
     "name": "stderr",
     "output_type": "stream",
     "text": [
      "C:\\Users\\Kunal T\\anaconda3\\Lib\\site-packages\\librosa\\core\\pitch.py:101: UserWarning: Trying to estimate tuning from empty frequency set.\n",
      "  return pitch_tuning(\n"
     ]
    }
   ],
   "source": [
    "features = []\n",
    "labels = []\n",
    "\n",
    "print(f\"Total audio files to process: {len(audio_files)}\")\n",
    "\n",
    "for file in audio_files:\n",
    "    features.append(extract_features(file))\n",
    "    labels.append(get_label(file))\n"
   ]
  },
  {
   "cell_type": "code",
   "execution_count": 14,
   "id": "adf4ee57",
   "metadata": {},
   "outputs": [
    {
     "name": "stdout",
     "output_type": "stream",
     "text": [
      "            0           1          2          3          4          5  \\\n",
      "0 -466.044037  150.633331  -0.994114  18.609697  16.116558  16.074947   \n",
      "1 -514.860657  159.774277 -11.262385  32.615177  13.642810  27.783012   \n",
      "2 -468.490845  128.115448   7.930116  17.409929  14.585181  18.754990   \n",
      "3 -465.272675  145.044220  -3.409719  17.591787  18.319963  19.420616   \n",
      "4 -490.461060  144.079315   7.913373  15.532048  22.751905  17.330116   \n",
      "\n",
      "          6          7         8          9  ...        39         40  \\\n",
      "0 -5.091736  -5.624174 -1.870499 -17.524929  ... -2.531019  19.240002   \n",
      "1 -3.117455  -5.257946  3.839833 -13.651824  ... -1.694973  17.244169   \n",
      "2 -3.237400  -6.421238 -0.455285 -10.519911  ...  0.817884  18.388017   \n",
      "3 -6.571012 -10.178814  0.110154 -13.145903  ... -1.320237  18.870542   \n",
      "4 -1.515759  -2.500594 -1.674686 -12.323693  ... -0.764155  17.026882   \n",
      "\n",
      "          41         42         43         44         45         46        47  \\\n",
      "0  10.828226  14.833185  15.841779  20.675996  27.232347  54.082633  0.019441   \n",
      "1  10.041036  13.674494  15.069122  18.695988  23.550509  54.547404  0.007399   \n",
      "2  11.240085  15.106985  15.454257  19.127949  24.025433  54.482208  0.020527   \n",
      "3  11.651765  14.403222  14.778439  19.700549  25.918110  54.223106  0.018914   \n",
      "4  10.336225  14.035271  15.419646  18.818237  25.933296  53.729486  0.009243   \n",
      "\n",
      "   label  \n",
      "0    ANG  \n",
      "1    DIS  \n",
      "2    FEA  \n",
      "3    HAP  \n",
      "4    NEU  \n",
      "\n",
      "[5 rows x 49 columns]\n",
      "\n",
      "Unique labels extracted: ['ANG' 'DIS' 'FEA' 'HAP' 'NEU' 'SAD']\n"
     ]
    }
   ],
   "source": [
    "# Create a DataFrame\n",
    "features_df = pd.DataFrame(features)\n",
    "features_df['label'] = labels\n",
    "\n",
    "# Display the first few rows\n",
    "print(features_df.head())\n",
    "\n",
    "unique_labels = features_df['label'].unique()\n",
    "print(f\"\\nUnique labels extracted: {unique_labels}\")"
   ]
  },
  {
   "cell_type": "code",
   "execution_count": 15,
   "id": "cc7fd331",
   "metadata": {},
   "outputs": [
    {
     "name": "stdout",
     "output_type": "stream",
     "text": [
      "                0           1          2          3          4          5  \\\n",
      "0     -466.044037  150.633331  -0.994114  18.609697  16.116558  16.074947   \n",
      "1     -514.860657  159.774277 -11.262385  32.615177  13.642810  27.783012   \n",
      "2     -468.490845  128.115448   7.930116  17.409929  14.585181  18.754990   \n",
      "3     -465.272675  145.044220  -3.409719  17.591787  18.319963  19.420616   \n",
      "4     -490.461060  144.079315   7.913373  15.532048  22.751905  17.330116   \n",
      "...           ...         ...        ...        ...        ...        ...   \n",
      "14879 -413.367371   96.386276  46.369541  14.591498  20.041859  10.173371   \n",
      "14880 -426.014099   91.230385  49.762833  20.573891  22.044111  11.756287   \n",
      "14881 -370.487915   90.638107  38.969696  19.762011  14.836708   0.329150   \n",
      "14882 -393.181244   94.353287  45.251865  12.303625  12.717791   8.813283   \n",
      "14883 -428.943237   95.965904  47.516315  18.359037  19.929518  10.473203   \n",
      "\n",
      "              6          7         8          9  ...        39         40  \\\n",
      "0     -5.091736  -5.624174 -1.870499 -17.524929  ... -2.531019  19.240002   \n",
      "1     -3.117455  -5.257946  3.839833 -13.651824  ... -1.694973  17.244169   \n",
      "2     -3.237400  -6.421238 -0.455285 -10.519911  ...  0.817884  18.388017   \n",
      "3     -6.571012 -10.178814  0.110154 -13.145903  ... -1.320237  18.870542   \n",
      "4     -1.515759  -2.500594 -1.674686 -12.323693  ... -0.764155  17.026882   \n",
      "...         ...        ...       ...        ...  ...       ...        ...   \n",
      "14879  0.748282  -0.852761  4.764166  -0.944673  ... -2.414303  16.904852   \n",
      "14880 -1.450959   2.497096  5.650768  -3.032017  ... -2.233340  18.346495   \n",
      "14881 -1.175138  -3.071633  5.731897  -3.763147  ... -2.230953  17.809696   \n",
      "14882  0.926235  -3.176065  6.253240  -2.163017  ... -0.336353  16.280022   \n",
      "14883  1.190696   0.686372  6.804269  -1.520532  ...  0.683877  16.443195   \n",
      "\n",
      "              41         42         43         44         45         46  \\\n",
      "0      10.828226  14.833185  15.841779  20.675996  27.232347  54.082633   \n",
      "1      10.041036  13.674494  15.069122  18.695988  23.550509  54.547404   \n",
      "2      11.240085  15.106985  15.454257  19.127949  24.025433  54.482208   \n",
      "3      11.651765  14.403222  14.778439  19.700549  25.918110  54.223106   \n",
      "4      10.336225  14.035271  15.419646  18.818237  25.933296  53.729486   \n",
      "...          ...        ...        ...        ...        ...        ...   \n",
      "14879  15.430714  16.730908  16.571608  16.984583  16.677708  16.409695   \n",
      "14880  16.396553  17.445383  15.562611  16.869539  16.298778  16.459390   \n",
      "14881  15.872631  17.992830  16.572852  16.876404  17.138067  15.092182   \n",
      "14882  15.028507  17.702460  17.053737  16.924749  17.005611  16.022306   \n",
      "14883  14.950703  16.709895  17.172369  17.139787  16.460997  16.939208   \n",
      "\n",
      "             47  label  \n",
      "0      0.019441    ANG  \n",
      "1      0.007399    DIS  \n",
      "2      0.020527    FEA  \n",
      "3      0.018914    HAP  \n",
      "4      0.009243    NEU  \n",
      "...         ...    ...  \n",
      "14879  0.008719    DIS  \n",
      "14880  0.008474    FEA  \n",
      "14881  0.015657    HAP  \n",
      "14882  0.011585    NEU  \n",
      "14883  0.007307    SAD  \n",
      "\n",
      "[14884 rows x 49 columns]\n"
     ]
    }
   ],
   "source": [
    "print(features_df)"
   ]
  },
  {
   "cell_type": "markdown",
   "id": "af1bf948",
   "metadata": {},
   "source": [
    "### Preparing data (x,y) and test-train split"
   ]
  },
  {
   "cell_type": "code",
   "execution_count": 16,
   "id": "d2001e6f",
   "metadata": {
    "scrolled": true
   },
   "outputs": [
    {
     "name": "stdout",
     "output_type": "stream",
     "text": [
      "Training set size: (11907, 48), Test set size: (2977, 48)\n"
     ]
    }
   ],
   "source": [
    "from sklearn.preprocessing import LabelEncoder, StandardScaler\n",
    "\n",
    "# Encode the labels to numerical values\n",
    "label_encoder = LabelEncoder()\n",
    "features_df['label'] = label_encoder.fit_transform(features_df['label'])\n",
    "\n",
    "# Split features and labels\n",
    "X = features_df.drop('label', axis=1)\n",
    "y = features_df['label']\n",
    "\n",
    "# Normalize the feature set\n",
    "scaler = StandardScaler()\n",
    "X_scaled = scaler.fit_transform(X)\n",
    "\n",
    "# Split into train and test sets\n",
    "X_train, X_test, y_train, y_test = train_test_split(X_scaled, y, test_size=0.2, random_state=42)\n",
    "\n",
    "print(f\"Training set size: {X_train.shape}, Test set size: {X_test.shape}\")\n"
   ]
  },
  {
   "cell_type": "markdown",
   "id": "beed6989",
   "metadata": {},
   "source": [
    "### Training the model"
   ]
  },
  {
   "cell_type": "code",
   "execution_count": 17,
   "id": "770d54ab",
   "metadata": {
    "scrolled": true
   },
   "outputs": [
    {
     "name": "stdout",
     "output_type": "stream",
     "text": [
      "SVM Model Accuracy: 43.67%\n"
     ]
    }
   ],
   "source": [
    "#SVM\n",
    "\n",
    "from sklearn.svm import SVC\n",
    "from sklearn.metrics import accuracy_score\n",
    "\n",
    "# Train the model\n",
    "svm_model = SVC(kernel='linear', C=1.0, random_state=42)\n",
    "svm_model.fit(X_train, y_train)\n",
    "\n",
    "# Make predictions\n",
    "y_pred = svm_model.predict(X_test)\n",
    "\n",
    "# Evaluate the model\n",
    "accuracy = accuracy_score(y_test, y_pred)\n",
    "print(f\"SVM Model Accuracy: {accuracy * 100:.2f}%\")\n",
    "\n"
   ]
  },
  {
   "cell_type": "code",
   "execution_count": 18,
   "id": "07e63212",
   "metadata": {},
   "outputs": [
    {
     "name": "stdout",
     "output_type": "stream",
     "text": [
      "Random Forest Model Accuracy: 45.38%\n"
     ]
    }
   ],
   "source": [
    "# Random Forest \n",
    "\n",
    "from sklearn.ensemble import RandomForestClassifier\n",
    "from sklearn.metrics import accuracy_score\n",
    "\n",
    "# Initialize Random Forest model\n",
    "rf_model = RandomForestClassifier(n_estimators=100, max_depth=10, random_state=42)\n",
    "\n",
    "# Train the model\n",
    "rf_model.fit(X_train, y_train)\n",
    "\n",
    "# Make predictions\n",
    "y_pred = rf_model.predict(X_test)\n",
    "\n",
    "# Evaluate the accuracy\n",
    "accuracy = accuracy_score(y_test, y_pred)\n",
    "print(f\"Random Forest Model Accuracy: {accuracy * 100:.2f}%\")"
   ]
  },
  {
   "cell_type": "code",
   "execution_count": 19,
   "id": "92fd1246",
   "metadata": {},
   "outputs": [
    {
     "name": "stdout",
     "output_type": "stream",
     "text": [
      "Gradient Boosting Model Accuracy: 47.93%\n"
     ]
    }
   ],
   "source": [
    "# Graadient Boost\n",
    "\n",
    "from sklearn.ensemble import GradientBoostingClassifier\n",
    "from sklearn.metrics import accuracy_score\n",
    "\n",
    "# Initialize the Gradient Boosting model\n",
    "gb_model = GradientBoostingClassifier(n_estimators=200, learning_rate=0.1, max_depth=5, random_state=42)\n",
    "\n",
    "# Train the model\n",
    "gb_model.fit(X_train, y_train)\n",
    "\n",
    "# Make predictions\n",
    "y_pred = gb_model.predict(X_test)\n",
    "\n",
    "# Evaluate the accuracy\n",
    "accuracy = accuracy_score(y_test, y_pred)\n",
    "print(f\"Gradient Boosting Model Accuracy: {accuracy * 100:.2f}%\")\n"
   ]
  },
  {
   "cell_type": "code",
   "execution_count": 36,
   "id": "e634e49a",
   "metadata": {},
   "outputs": [
    {
     "name": "stdout",
     "output_type": "stream",
     "text": [
      "Ensemble Model Accuracy: 46.42%\n"
     ]
    }
   ],
   "source": [
    "# Using a voting classifier with Random Forest and Gradient Boosting\n",
    "\n",
    "from sklearn.ensemble import VotingClassifier\n",
    "from sklearn.ensemble import GradientBoostingClassifier\n",
    "\n",
    "# Initialize Gradient Boosting model\n",
    "gb_model = GradientBoostingClassifier()\n",
    "\n",
    "# Combine Random Forest and Gradient Boosting in an ensemble\n",
    "ensemble_model = VotingClassifier(estimators=[('rf', rf_model), ('gb', gb_model)], voting='soft')\n",
    "\n",
    "# Train the ensemble model\n",
    "ensemble_model.fit(X_train, y_train)\n",
    "\n",
    "# Make predictions\n",
    "y_pred_ensemble = ensemble_model.predict(X_test)\n",
    "\n",
    "# Evaluate the accuracy\n",
    "ensemble_accuracy = accuracy_score(y_test, y_pred_ensemble)\n",
    "print(f\"Ensemble Model Accuracy: {ensemble_accuracy * 100:.2f}%\")\n"
   ]
  },
  {
   "cell_type": "code",
   "execution_count": 33,
   "id": "ce6cf2f0",
   "metadata": {},
   "outputs": [
    {
     "name": "stdout",
     "output_type": "stream",
     "text": [
      "Collecting xgboost\n",
      "  Obtaining dependency information for xgboost from https://files.pythonhosted.org/packages/e2/7b/8c1b410cd0604cee9a167a19f7e1746f5b92ae7d02ad574ab560b73c5a48/xgboost-2.1.1-py3-none-win_amd64.whl.metadata\n",
      "  Downloading xgboost-2.1.1-py3-none-win_amd64.whl.metadata (2.1 kB)\n",
      "Requirement already satisfied: numpy in c:\\users\\kunal t\\anaconda3\\lib\\site-packages (from xgboost) (1.24.3)\n",
      "Requirement already satisfied: scipy in c:\\users\\kunal t\\anaconda3\\lib\\site-packages (from xgboost) (1.11.1)\n",
      "Downloading xgboost-2.1.1-py3-none-win_amd64.whl (124.9 MB)\n",
      "   ---------------------------------------- 0.0/124.9 MB ? eta -:--:--\n",
      "   ---------------------------------------- 0.0/124.9 MB ? eta -:--:--\n",
      "   ---------------------------------------- 0.1/124.9 MB 991.0 kB/s eta 0:02:06\n",
      "   ---------------------------------------- 0.6/124.9 MB 5.4 MB/s eta 0:00:24\n",
      "   ---------------------------------------- 1.5/124.9 MB 9.5 MB/s eta 0:00:13\n",
      "    --------------------------------------- 2.7/124.9 MB 13.3 MB/s eta 0:00:10\n",
      "   - -------------------------------------- 3.7/124.9 MB 14.7 MB/s eta 0:00:09\n",
      "   - -------------------------------------- 4.3/124.9 MB 14.5 MB/s eta 0:00:09\n",
      "   - -------------------------------------- 4.9/124.9 MB 14.2 MB/s eta 0:00:09\n",
      "   - -------------------------------------- 5.5/124.9 MB 14.0 MB/s eta 0:00:09\n",
      "   - -------------------------------------- 6.1/124.9 MB 13.9 MB/s eta 0:00:09\n",
      "   -- ------------------------------------- 6.7/124.9 MB 13.8 MB/s eta 0:00:09\n",
      "   -- ------------------------------------- 7.3/124.9 MB 13.7 MB/s eta 0:00:09\n",
      "   -- ------------------------------------- 7.9/124.9 MB 13.7 MB/s eta 0:00:09\n",
      "   -- ------------------------------------- 8.5/124.9 MB 13.6 MB/s eta 0:00:09\n",
      "   -- ------------------------------------- 9.1/124.9 MB 13.6 MB/s eta 0:00:09\n",
      "   --- ------------------------------------ 9.7/124.9 MB 13.5 MB/s eta 0:00:09\n",
      "   --- ------------------------------------ 9.8/124.9 MB 13.6 MB/s eta 0:00:09\n",
      "   --- ------------------------------------ 9.9/124.9 MB 12.2 MB/s eta 0:00:10\n",
      "   --- ------------------------------------ 11.1/124.9 MB 13.9 MB/s eta 0:00:09\n",
      "   --- ------------------------------------ 11.8/124.9 MB 13.6 MB/s eta 0:00:09\n",
      "   ---- ----------------------------------- 12.5/124.9 MB 13.6 MB/s eta 0:00:09\n",
      "   ---- ----------------------------------- 13.1/124.9 MB 13.1 MB/s eta 0:00:09\n",
      "   ---- ----------------------------------- 13.7/124.9 MB 12.6 MB/s eta 0:00:09\n",
      "   ---- ----------------------------------- 14.1/124.9 MB 12.6 MB/s eta 0:00:09\n",
      "   ---- ----------------------------------- 14.9/124.9 MB 12.8 MB/s eta 0:00:09\n",
      "   ---- ----------------------------------- 15.3/124.9 MB 12.4 MB/s eta 0:00:09\n",
      "   ----- ---------------------------------- 16.1/124.9 MB 12.8 MB/s eta 0:00:09\n",
      "   ----- ---------------------------------- 16.7/124.9 MB 12.8 MB/s eta 0:00:09\n",
      "   ----- ---------------------------------- 17.1/124.9 MB 12.1 MB/s eta 0:00:09\n",
      "   ----- ---------------------------------- 17.9/124.9 MB 12.8 MB/s eta 0:00:09\n",
      "   ----- ---------------------------------- 18.5/124.9 MB 12.6 MB/s eta 0:00:09\n",
      "   ------ --------------------------------- 19.1/124.9 MB 12.8 MB/s eta 0:00:09\n",
      "   ------ --------------------------------- 19.8/124.9 MB 12.8 MB/s eta 0:00:09\n",
      "   ------ --------------------------------- 20.3/124.9 MB 14.2 MB/s eta 0:00:08\n",
      "   ------ --------------------------------- 20.9/124.9 MB 13.6 MB/s eta 0:00:08\n",
      "   ------ --------------------------------- 21.5/124.9 MB 13.1 MB/s eta 0:00:08\n",
      "   ------- -------------------------------- 22.1/124.9 MB 13.1 MB/s eta 0:00:08\n",
      "   ------- -------------------------------- 22.7/124.9 MB 12.8 MB/s eta 0:00:08\n",
      "   ------- -------------------------------- 23.3/124.9 MB 12.8 MB/s eta 0:00:08\n",
      "   ------- -------------------------------- 23.9/124.9 MB 12.8 MB/s eta 0:00:08\n",
      "   ------- -------------------------------- 24.5/124.9 MB 13.1 MB/s eta 0:00:08\n",
      "   -------- ------------------------------- 25.1/124.9 MB 12.9 MB/s eta 0:00:08\n",
      "   -------- ------------------------------- 25.7/124.9 MB 13.1 MB/s eta 0:00:08\n",
      "   -------- ------------------------------- 26.3/124.9 MB 12.8 MB/s eta 0:00:08\n",
      "   -------- ------------------------------- 26.9/124.9 MB 12.8 MB/s eta 0:00:08\n",
      "   -------- ------------------------------- 27.6/124.9 MB 13.1 MB/s eta 0:00:08\n",
      "   --------- ------------------------------ 28.2/124.9 MB 12.8 MB/s eta 0:00:08\n",
      "   --------- ------------------------------ 28.8/124.9 MB 12.8 MB/s eta 0:00:08\n",
      "   --------- ------------------------------ 29.4/124.9 MB 13.1 MB/s eta 0:00:08\n",
      "   --------- ------------------------------ 30.0/124.9 MB 12.9 MB/s eta 0:00:08\n",
      "   --------- ------------------------------ 30.6/124.9 MB 13.1 MB/s eta 0:00:08\n",
      "   --------- ------------------------------ 31.2/124.9 MB 12.8 MB/s eta 0:00:08\n",
      "   ---------- ----------------------------- 31.8/124.9 MB 12.8 MB/s eta 0:00:08\n",
      "   ---------- ----------------------------- 32.4/124.9 MB 12.8 MB/s eta 0:00:08\n",
      "   ---------- ----------------------------- 33.0/124.9 MB 12.8 MB/s eta 0:00:08\n",
      "   ---------- ----------------------------- 33.6/124.9 MB 12.8 MB/s eta 0:00:08\n",
      "   ---------- ----------------------------- 34.2/124.9 MB 12.8 MB/s eta 0:00:08\n",
      "   ----------- ---------------------------- 34.8/124.9 MB 12.9 MB/s eta 0:00:08\n",
      "   ----------- ---------------------------- 35.4/124.9 MB 12.8 MB/s eta 0:00:07\n",
      "   ----------- ---------------------------- 36.0/124.9 MB 12.8 MB/s eta 0:00:07\n",
      "   ----------- ---------------------------- 36.6/124.9 MB 12.8 MB/s eta 0:00:07\n",
      "   ----------- ---------------------------- 37.2/124.9 MB 12.8 MB/s eta 0:00:07\n",
      "   ------------ --------------------------- 37.8/124.9 MB 12.8 MB/s eta 0:00:07\n",
      "   ------------ --------------------------- 38.4/124.9 MB 12.8 MB/s eta 0:00:07\n",
      "   ------------ --------------------------- 39.0/124.9 MB 12.8 MB/s eta 0:00:07\n",
      "   ------------ --------------------------- 39.6/124.9 MB 12.9 MB/s eta 0:00:07\n",
      "   ------------ --------------------------- 40.2/124.9 MB 12.8 MB/s eta 0:00:07\n",
      "   ------------- -------------------------- 40.8/124.9 MB 12.8 MB/s eta 0:00:07\n",
      "   ------------- -------------------------- 41.4/124.9 MB 12.8 MB/s eta 0:00:07\n",
      "   ------------- -------------------------- 42.0/124.9 MB 12.8 MB/s eta 0:00:07\n",
      "   ------------- -------------------------- 42.6/124.9 MB 12.8 MB/s eta 0:00:07\n",
      "   ------------- -------------------------- 43.2/124.9 MB 12.8 MB/s eta 0:00:07\n",
      "   -------------- ------------------------- 43.8/124.9 MB 13.1 MB/s eta 0:00:07\n",
      "   -------------- ------------------------- 44.5/124.9 MB 12.9 MB/s eta 0:00:07\n",
      "   -------------- ------------------------- 45.1/124.9 MB 13.1 MB/s eta 0:00:07\n",
      "   -------------- ------------------------- 45.7/124.9 MB 13.1 MB/s eta 0:00:07\n",
      "   -------------- ------------------------- 46.3/124.9 MB 13.1 MB/s eta 0:00:07\n",
      "   --------------- ------------------------ 46.9/124.9 MB 12.8 MB/s eta 0:00:07\n",
      "   --------------- ------------------------ 47.5/124.9 MB 13.1 MB/s eta 0:00:06\n",
      "   --------------- ------------------------ 48.1/124.9 MB 13.1 MB/s eta 0:00:06\n",
      "   --------------- ------------------------ 48.7/124.9 MB 13.1 MB/s eta 0:00:06\n",
      "   --------------- ------------------------ 49.3/124.9 MB 13.1 MB/s eta 0:00:06\n",
      "   --------------- ------------------------ 49.9/124.9 MB 13.1 MB/s eta 0:00:06\n",
      "   ---------------- ----------------------- 50.5/124.9 MB 13.1 MB/s eta 0:00:06\n",
      "   ---------------- ----------------------- 51.1/124.9 MB 13.1 MB/s eta 0:00:06\n",
      "   ---------------- ----------------------- 51.7/124.9 MB 13.1 MB/s eta 0:00:06\n",
      "   ---------------- ----------------------- 52.3/124.9 MB 13.1 MB/s eta 0:00:06\n",
      "   ---------------- ----------------------- 52.9/124.9 MB 13.1 MB/s eta 0:00:06\n",
      "   ----------------- ---------------------- 53.5/124.9 MB 13.1 MB/s eta 0:00:06\n",
      "   ----------------- ---------------------- 54.1/124.9 MB 13.1 MB/s eta 0:00:06\n",
      "   ----------------- ---------------------- 54.7/124.9 MB 13.1 MB/s eta 0:00:06\n",
      "   ----------------- ---------------------- 55.3/124.9 MB 12.8 MB/s eta 0:00:06\n",
      "   ----------------- ---------------------- 55.9/124.9 MB 12.9 MB/s eta 0:00:06\n",
      "   ------------------ --------------------- 56.5/124.9 MB 12.8 MB/s eta 0:00:06\n",
      "   ------------------ --------------------- 57.1/124.9 MB 12.8 MB/s eta 0:00:06\n",
      "   ------------------ --------------------- 57.7/124.9 MB 12.8 MB/s eta 0:00:06\n",
      "   ------------------ --------------------- 58.3/124.9 MB 12.8 MB/s eta 0:00:06\n",
      "   ------------------ --------------------- 58.9/124.9 MB 12.8 MB/s eta 0:00:06\n",
      "   ------------------- -------------------- 59.5/124.9 MB 12.8 MB/s eta 0:00:06\n",
      "   ------------------- -------------------- 60.1/124.9 MB 12.8 MB/s eta 0:00:06\n",
      "   ------------------- -------------------- 60.7/124.9 MB 12.9 MB/s eta 0:00:05\n",
      "   ------------------- -------------------- 61.4/124.9 MB 12.8 MB/s eta 0:00:05\n",
      "   ------------------- -------------------- 61.9/124.9 MB 12.8 MB/s eta 0:00:05\n",
      "   -------------------- ------------------- 62.5/124.9 MB 12.8 MB/s eta 0:00:05\n",
      "   -------------------- ------------------- 63.2/124.9 MB 12.8 MB/s eta 0:00:05\n",
      "   -------------------- ------------------- 63.7/124.9 MB 12.8 MB/s eta 0:00:05\n",
      "   -------------------- ------------------- 64.3/124.9 MB 12.8 MB/s eta 0:00:05\n",
      "   -------------------- ------------------- 64.9/124.9 MB 12.8 MB/s eta 0:00:05\n",
      "   -------------------- ------------------- 65.5/124.9 MB 12.9 MB/s eta 0:00:05\n",
      "   --------------------- ------------------ 66.2/124.9 MB 12.8 MB/s eta 0:00:05\n",
      "   --------------------- ------------------ 66.8/124.9 MB 12.8 MB/s eta 0:00:05\n",
      "   --------------------- ------------------ 67.4/124.9 MB 12.8 MB/s eta 0:00:05\n",
      "   --------------------- ------------------ 68.0/124.9 MB 12.8 MB/s eta 0:00:05\n",
      "   --------------------- ------------------ 68.6/124.9 MB 12.8 MB/s eta 0:00:05\n",
      "   ---------------------- ----------------- 69.2/124.9 MB 12.8 MB/s eta 0:00:05\n",
      "   ---------------------- ----------------- 69.8/124.9 MB 12.8 MB/s eta 0:00:05\n",
      "   ---------------------- ----------------- 70.4/124.9 MB 12.9 MB/s eta 0:00:05\n",
      "   ---------------------- ----------------- 70.9/124.9 MB 12.8 MB/s eta 0:00:05\n",
      "   ---------------------- ----------------- 71.5/124.9 MB 13.1 MB/s eta 0:00:05\n",
      "   ----------------------- ---------------- 72.1/124.9 MB 13.1 MB/s eta 0:00:05\n",
      "   ----------------------- ---------------- 72.7/124.9 MB 12.8 MB/s eta 0:00:05\n",
      "   ----------------------- ---------------- 73.4/124.9 MB 12.8 MB/s eta 0:00:05\n",
      "   ----------------------- ---------------- 74.0/124.9 MB 12.8 MB/s eta 0:00:04\n",
      "   ----------------------- ---------------- 74.6/124.9 MB 12.8 MB/s eta 0:00:04\n",
      "   ------------------------ --------------- 75.2/124.9 MB 13.1 MB/s eta 0:00:04\n",
      "   ------------------------ --------------- 75.8/124.9 MB 12.8 MB/s eta 0:00:04\n",
      "   ------------------------ --------------- 76.4/124.9 MB 12.8 MB/s eta 0:00:04\n",
      "   ------------------------ --------------- 77.0/124.9 MB 12.8 MB/s eta 0:00:04\n",
      "   ------------------------ --------------- 77.6/124.9 MB 12.8 MB/s eta 0:00:04\n",
      "   ------------------------- -------------- 78.2/124.9 MB 12.8 MB/s eta 0:00:04\n",
      "   ------------------------- -------------- 78.8/124.9 MB 12.8 MB/s eta 0:00:04\n",
      "   ------------------------- -------------- 79.4/124.9 MB 12.8 MB/s eta 0:00:04\n",
      "   ------------------------- -------------- 80.0/124.9 MB 12.9 MB/s eta 0:00:04\n",
      "   ------------------------- -------------- 80.7/124.9 MB 12.8 MB/s eta 0:00:04\n",
      "   -------------------------- ------------- 81.3/124.9 MB 12.8 MB/s eta 0:00:04\n",
      "   -------------------------- ------------- 81.9/124.9 MB 12.8 MB/s eta 0:00:04\n",
      "   -------------------------- ------------- 82.5/124.9 MB 12.8 MB/s eta 0:00:04\n",
      "   -------------------------- ------------- 83.1/124.9 MB 12.8 MB/s eta 0:00:04\n",
      "   -------------------------- ------------- 83.7/124.9 MB 12.8 MB/s eta 0:00:04\n",
      "   --------------------------- ------------ 84.3/124.9 MB 12.8 MB/s eta 0:00:04\n",
      "   --------------------------- ------------ 84.9/124.9 MB 12.9 MB/s eta 0:00:04\n",
      "   --------------------------- ------------ 85.5/124.9 MB 12.8 MB/s eta 0:00:04\n",
      "   --------------------------- ------------ 86.1/124.9 MB 12.8 MB/s eta 0:00:04\n",
      "   --------------------------- ------------ 86.7/124.9 MB 12.8 MB/s eta 0:00:03\n",
      "   --------------------------- ------------ 87.3/124.9 MB 12.8 MB/s eta 0:00:03\n",
      "   ---------------------------- ----------- 87.9/124.9 MB 12.8 MB/s eta 0:00:03\n",
      "   ---------------------------- ----------- 88.5/124.9 MB 13.1 MB/s eta 0:00:03\n",
      "   ---------------------------- ----------- 89.1/124.9 MB 12.8 MB/s eta 0:00:03\n",
      "   ---------------------------- ----------- 89.8/124.9 MB 12.9 MB/s eta 0:00:03\n",
      "   ---------------------------- ----------- 90.3/124.9 MB 13.1 MB/s eta 0:00:03\n",
      "   ----------------------------- ---------- 91.0/124.9 MB 13.1 MB/s eta 0:00:03\n",
      "   ----------------------------- ---------- 91.5/124.9 MB 13.1 MB/s eta 0:00:03\n",
      "   ----------------------------- ---------- 92.2/124.9 MB 13.1 MB/s eta 0:00:03\n",
      "   ----------------------------- ---------- 92.8/124.9 MB 13.1 MB/s eta 0:00:03\n",
      "   ----------------------------- ---------- 93.4/124.9 MB 12.8 MB/s eta 0:00:03\n",
      "   ------------------------------ --------- 94.0/124.9 MB 12.8 MB/s eta 0:00:03\n",
      "   ------------------------------ --------- 94.6/124.9 MB 12.9 MB/s eta 0:00:03\n",
      "   ------------------------------ --------- 95.2/124.9 MB 13.1 MB/s eta 0:00:03\n",
      "   ------------------------------ --------- 95.8/124.9 MB 13.1 MB/s eta 0:00:03\n",
      "   ------------------------------ --------- 96.4/124.9 MB 13.1 MB/s eta 0:00:03\n",
      "   ------------------------------- -------- 97.0/124.9 MB 13.1 MB/s eta 0:00:03\n",
      "   ------------------------------- -------- 97.6/124.9 MB 13.1 MB/s eta 0:00:03\n",
      "   ------------------------------- -------- 98.2/124.9 MB 13.1 MB/s eta 0:00:03\n",
      "   ------------------------------- -------- 98.8/124.9 MB 13.1 MB/s eta 0:00:02\n",
      "   ------------------------------- -------- 99.4/124.9 MB 13.1 MB/s eta 0:00:02\n",
      "   ------------------------------- ------- 100.0/124.9 MB 13.1 MB/s eta 0:00:02\n",
      "   ------------------------------- ------- 100.6/124.9 MB 13.1 MB/s eta 0:00:02\n",
      "   ------------------------------- ------- 101.2/124.9 MB 13.1 MB/s eta 0:00:02\n",
      "   ------------------------------- ------- 101.8/124.9 MB 13.1 MB/s eta 0:00:02\n",
      "   ------------------------------- ------- 102.4/124.9 MB 13.1 MB/s eta 0:00:02\n",
      "   -------------------------------- ------ 103.1/124.9 MB 13.1 MB/s eta 0:00:02\n",
      "   -------------------------------- ------ 103.6/124.9 MB 13.1 MB/s eta 0:00:02\n",
      "   -------------------------------- ------ 104.3/124.9 MB 13.1 MB/s eta 0:00:02\n",
      "   -------------------------------- ------ 104.8/124.9 MB 13.1 MB/s eta 0:00:02\n",
      "   -------------------------------- ------ 105.5/124.9 MB 13.1 MB/s eta 0:00:02\n",
      "   --------------------------------- ----- 106.0/124.9 MB 13.1 MB/s eta 0:00:02\n",
      "   --------------------------------- ----- 106.6/124.9 MB 12.8 MB/s eta 0:00:02\n",
      "   --------------------------------- ----- 107.3/124.9 MB 13.1 MB/s eta 0:00:02\n",
      "   --------------------------------- ----- 107.9/124.9 MB 13.1 MB/s eta 0:00:02\n",
      "   --------------------------------- ----- 108.5/124.9 MB 13.1 MB/s eta 0:00:02\n",
      "   ---------------------------------- ---- 109.1/124.9 MB 13.1 MB/s eta 0:00:02\n",
      "   ---------------------------------- ---- 109.7/124.9 MB 13.1 MB/s eta 0:00:02\n",
      "   ---------------------------------- ---- 110.3/124.9 MB 13.1 MB/s eta 0:00:02\n",
      "   ---------------------------------- ---- 110.9/124.9 MB 12.9 MB/s eta 0:00:02\n",
      "   ---------------------------------- ---- 111.5/124.9 MB 12.8 MB/s eta 0:00:02\n",
      "   ---------------------------------- ---- 112.1/124.9 MB 12.8 MB/s eta 0:00:01\n",
      "   ----------------------------------- --- 112.7/124.9 MB 12.8 MB/s eta 0:00:01\n",
      "   ----------------------------------- --- 113.3/124.9 MB 12.8 MB/s eta 0:00:01\n",
      "   ----------------------------------- --- 113.9/124.9 MB 12.8 MB/s eta 0:00:01\n",
      "   ----------------------------------- --- 114.5/124.9 MB 12.8 MB/s eta 0:00:01\n",
      "   ----------------------------------- --- 115.1/124.9 MB 12.8 MB/s eta 0:00:01\n",
      "   ------------------------------------ -- 115.7/124.9 MB 12.9 MB/s eta 0:00:01\n",
      "   ------------------------------------ -- 116.3/124.9 MB 12.8 MB/s eta 0:00:01\n",
      "   ------------------------------------ -- 116.9/124.9 MB 12.8 MB/s eta 0:00:01\n",
      "   ------------------------------------ -- 117.5/124.9 MB 12.8 MB/s eta 0:00:01\n",
      "   ------------------------------------ -- 118.1/124.9 MB 12.8 MB/s eta 0:00:01\n",
      "   ------------------------------------- - 118.7/124.9 MB 12.8 MB/s eta 0:00:01\n",
      "   ------------------------------------- - 119.3/124.9 MB 12.8 MB/s eta 0:00:01\n",
      "   ------------------------------------- - 119.9/124.9 MB 12.8 MB/s eta 0:00:01\n",
      "   ------------------------------------- - 120.5/124.9 MB 12.9 MB/s eta 0:00:01\n",
      "   ------------------------------------- - 121.1/124.9 MB 13.1 MB/s eta 0:00:01\n",
      "   --------------------------------------  121.7/124.9 MB 13.1 MB/s eta 0:00:01\n",
      "   --------------------------------------  122.3/124.9 MB 13.1 MB/s eta 0:00:01\n",
      "   --------------------------------------  122.9/124.9 MB 13.1 MB/s eta 0:00:01\n",
      "   --------------------------------------  123.5/124.9 MB 13.1 MB/s eta 0:00:01\n",
      "   --------------------------------------  124.1/124.9 MB 13.1 MB/s eta 0:00:01\n",
      "   --------------------------------------  124.7/124.9 MB 13.1 MB/s eta 0:00:01\n",
      "   --------------------------------------  124.9/124.9 MB 13.1 MB/s eta 0:00:01\n",
      "   --------------------------------------  124.9/124.9 MB 13.1 MB/s eta 0:00:01\n",
      "   --------------------------------------  124.9/124.9 MB 13.1 MB/s eta 0:00:01\n",
      "   --------------------------------------  124.9/124.9 MB 13.1 MB/s eta 0:00:01\n",
      "   --------------------------------------  124.9/124.9 MB 13.1 MB/s eta 0:00:01\n",
      "   --------------------------------------  124.9/124.9 MB 13.1 MB/s eta 0:00:01\n",
      "   ---------------------------------------- 124.9/124.9 MB 9.0 MB/s eta 0:00:00\n",
      "Installing collected packages: xgboost\n",
      "Successfully installed xgboost-2.1.1\n",
      "Note: you may need to restart the kernel to use updated packages.\n"
     ]
    }
   ],
   "source": [
    "pip install xgboost"
   ]
  },
  {
   "cell_type": "code",
   "execution_count": 73,
   "id": "5e1f0dcf",
   "metadata": {},
   "outputs": [
    {
     "name": "stdout",
     "output_type": "stream",
     "text": [
      "XGBoost Model Accuracy: 44.51%\n"
     ]
    }
   ],
   "source": [
    "# XGBoost\n",
    "\n",
    "import xgboost as xgb\n",
    "from sklearn.metrics import accuracy_score\n",
    "\n",
    "# Initialize the XGBoost model\n",
    "xgb_model = xgb.XGBClassifier(n_estimators=100, learning_rate=0.1, max_depth=3, random_state=42)\n",
    "\n",
    "# Train the model\n",
    "xgb_model.fit(X_train, y_train)\n",
    "\n",
    "# Make predictions\n",
    "y_pred = xgb_model.predict(X_test)\n",
    "\n",
    "# Evaluate the accuracy\n",
    "accuracy = accuracy_score(y_test, y_pred)\n",
    "print(f\"XGBoost Model Accuracy: {accuracy * 100:.2f}%\")\n"
   ]
  },
  {
   "cell_type": "code",
   "execution_count": 20,
   "id": "dc6d3e43",
   "metadata": {
    "scrolled": true
   },
   "outputs": [
    {
     "name": "stdout",
     "output_type": "stream",
     "text": [
      "Requirement already satisfied: tensorflow in c:\\users\\kunal t\\anaconda3\\lib\\site-packages (2.17.0)Note: you may need to restart the kernel to use updated packages.\n",
      "\n",
      "Requirement already satisfied: tensorflow-intel==2.17.0 in c:\\users\\kunal t\\anaconda3\\lib\\site-packages (from tensorflow) (2.17.0)\n",
      "Requirement already satisfied: absl-py>=1.0.0 in c:\\users\\kunal t\\anaconda3\\lib\\site-packages (from tensorflow-intel==2.17.0->tensorflow) (2.1.0)\n",
      "Requirement already satisfied: astunparse>=1.6.0 in c:\\users\\kunal t\\anaconda3\\lib\\site-packages (from tensorflow-intel==2.17.0->tensorflow) (1.6.3)\n",
      "Requirement already satisfied: flatbuffers>=24.3.25 in c:\\users\\kunal t\\anaconda3\\lib\\site-packages (from tensorflow-intel==2.17.0->tensorflow) (24.3.25)\n",
      "Requirement already satisfied: gast!=0.5.0,!=0.5.1,!=0.5.2,>=0.2.1 in c:\\users\\kunal t\\anaconda3\\lib\\site-packages (from tensorflow-intel==2.17.0->tensorflow) (0.6.0)\n",
      "Requirement already satisfied: google-pasta>=0.1.1 in c:\\users\\kunal t\\anaconda3\\lib\\site-packages (from tensorflow-intel==2.17.0->tensorflow) (0.2.0)\n",
      "Requirement already satisfied: h5py>=3.10.0 in c:\\users\\kunal t\\anaconda3\\lib\\site-packages (from tensorflow-intel==2.17.0->tensorflow) (3.12.1)\n",
      "Requirement already satisfied: libclang>=13.0.0 in c:\\users\\kunal t\\anaconda3\\lib\\site-packages (from tensorflow-intel==2.17.0->tensorflow) (18.1.1)\n",
      "Requirement already satisfied: ml-dtypes<0.5.0,>=0.3.1 in c:\\users\\kunal t\\anaconda3\\lib\\site-packages (from tensorflow-intel==2.17.0->tensorflow) (0.4.1)\n",
      "Requirement already satisfied: opt-einsum>=2.3.2 in c:\\users\\kunal t\\anaconda3\\lib\\site-packages (from tensorflow-intel==2.17.0->tensorflow) (3.4.0)\n",
      "Requirement already satisfied: packaging in c:\\users\\kunal t\\anaconda3\\lib\\site-packages (from tensorflow-intel==2.17.0->tensorflow) (23.1)\n",
      "Requirement already satisfied: protobuf!=4.21.0,!=4.21.1,!=4.21.2,!=4.21.3,!=4.21.4,!=4.21.5,<5.0.0dev,>=3.20.3 in c:\\users\\kunal t\\anaconda3\\lib\\site-packages (from tensorflow-intel==2.17.0->tensorflow) (4.25.5)\n",
      "Requirement already satisfied: requests<3,>=2.21.0 in c:\\users\\kunal t\\anaconda3\\lib\\site-packages (from tensorflow-intel==2.17.0->tensorflow) (2.31.0)\n",
      "Requirement already satisfied: setuptools in c:\\users\\kunal t\\anaconda3\\lib\\site-packages (from tensorflow-intel==2.17.0->tensorflow) (68.0.0)\n",
      "Requirement already satisfied: six>=1.12.0 in c:\\users\\kunal t\\anaconda3\\lib\\site-packages (from tensorflow-intel==2.17.0->tensorflow) (1.16.0)\n",
      "Requirement already satisfied: termcolor>=1.1.0 in c:\\users\\kunal t\\anaconda3\\lib\\site-packages (from tensorflow-intel==2.17.0->tensorflow) (2.4.0)\n",
      "Requirement already satisfied: typing-extensions>=3.6.6 in c:\\users\\kunal t\\anaconda3\\lib\\site-packages (from tensorflow-intel==2.17.0->tensorflow) (4.7.1)\n",
      "Requirement already satisfied: wrapt>=1.11.0 in c:\\users\\kunal t\\anaconda3\\lib\\site-packages (from tensorflow-intel==2.17.0->tensorflow) (1.14.1)\n",
      "Requirement already satisfied: grpcio<2.0,>=1.24.3 in c:\\users\\kunal t\\anaconda3\\lib\\site-packages (from tensorflow-intel==2.17.0->tensorflow) (1.66.1)\n",
      "Requirement already satisfied: tensorboard<2.18,>=2.17 in c:\\users\\kunal t\\anaconda3\\lib\\site-packages (from tensorflow-intel==2.17.0->tensorflow) (2.17.1)\n",
      "Requirement already satisfied: keras>=3.2.0 in c:\\users\\kunal t\\anaconda3\\lib\\site-packages (from tensorflow-intel==2.17.0->tensorflow) (3.5.0)\n",
      "Requirement already satisfied: tensorflow-io-gcs-filesystem>=0.23.1 in c:\\users\\kunal t\\anaconda3\\lib\\site-packages (from tensorflow-intel==2.17.0->tensorflow) (0.31.0)\n",
      "Requirement already satisfied: numpy<2.0.0,>=1.23.5 in c:\\users\\kunal t\\anaconda3\\lib\\site-packages (from tensorflow-intel==2.17.0->tensorflow) (1.24.3)\n",
      "Requirement already satisfied: wheel<1.0,>=0.23.0 in c:\\users\\kunal t\\anaconda3\\lib\\site-packages (from astunparse>=1.6.0->tensorflow-intel==2.17.0->tensorflow) (0.38.4)\n",
      "Requirement already satisfied: rich in c:\\users\\kunal t\\anaconda3\\lib\\site-packages (from keras>=3.2.0->tensorflow-intel==2.17.0->tensorflow) (13.8.1)\n",
      "Requirement already satisfied: namex in c:\\users\\kunal t\\anaconda3\\lib\\site-packages (from keras>=3.2.0->tensorflow-intel==2.17.0->tensorflow) (0.0.8)\n",
      "Requirement already satisfied: optree in c:\\users\\kunal t\\anaconda3\\lib\\site-packages (from keras>=3.2.0->tensorflow-intel==2.17.0->tensorflow) (0.12.1)\n",
      "Requirement already satisfied: charset-normalizer<4,>=2 in c:\\users\\kunal t\\anaconda3\\lib\\site-packages (from requests<3,>=2.21.0->tensorflow-intel==2.17.0->tensorflow) (2.0.4)\n",
      "Requirement already satisfied: idna<4,>=2.5 in c:\\users\\kunal t\\anaconda3\\lib\\site-packages (from requests<3,>=2.21.0->tensorflow-intel==2.17.0->tensorflow) (3.4)\n",
      "Requirement already satisfied: urllib3<3,>=1.21.1 in c:\\users\\kunal t\\anaconda3\\lib\\site-packages (from requests<3,>=2.21.0->tensorflow-intel==2.17.0->tensorflow) (1.26.16)\n",
      "Requirement already satisfied: certifi>=2017.4.17 in c:\\users\\kunal t\\anaconda3\\lib\\site-packages (from requests<3,>=2.21.0->tensorflow-intel==2.17.0->tensorflow) (2024.6.2)\n",
      "Requirement already satisfied: markdown>=2.6.8 in c:\\users\\kunal t\\anaconda3\\lib\\site-packages (from tensorboard<2.18,>=2.17->tensorflow-intel==2.17.0->tensorflow) (3.4.1)\n",
      "Requirement already satisfied: tensorboard-data-server<0.8.0,>=0.7.0 in c:\\users\\kunal t\\anaconda3\\lib\\site-packages (from tensorboard<2.18,>=2.17->tensorflow-intel==2.17.0->tensorflow) (0.7.2)\n",
      "Requirement already satisfied: werkzeug>=1.0.1 in c:\\users\\kunal t\\anaconda3\\lib\\site-packages (from tensorboard<2.18,>=2.17->tensorflow-intel==2.17.0->tensorflow) (2.2.3)\n",
      "Requirement already satisfied: MarkupSafe>=2.1.1 in c:\\users\\kunal t\\anaconda3\\lib\\site-packages (from werkzeug>=1.0.1->tensorboard<2.18,>=2.17->tensorflow-intel==2.17.0->tensorflow) (2.1.1)\n",
      "Requirement already satisfied: markdown-it-py>=2.2.0 in c:\\users\\kunal t\\anaconda3\\lib\\site-packages (from rich->keras>=3.2.0->tensorflow-intel==2.17.0->tensorflow) (2.2.0)\n",
      "Requirement already satisfied: pygments<3.0.0,>=2.13.0 in c:\\users\\kunal t\\anaconda3\\lib\\site-packages (from rich->keras>=3.2.0->tensorflow-intel==2.17.0->tensorflow) (2.15.1)\n",
      "Requirement already satisfied: mdurl~=0.1 in c:\\users\\kunal t\\anaconda3\\lib\\site-packages (from markdown-it-py>=2.2.0->rich->keras>=3.2.0->tensorflow-intel==2.17.0->tensorflow) (0.1.0)\n"
     ]
    }
   ],
   "source": [
    "pip install tensorflow"
   ]
  },
  {
   "cell_type": "code",
   "execution_count": 32,
   "id": "fc92ef6b",
   "metadata": {},
   "outputs": [
    {
     "name": "stdout",
     "output_type": "stream",
     "text": [
      "Requirement already satisfied: tensorflow in c:\\users\\kunal t\\anaconda3\\lib\\site-packages (2.17.0)Note: you may need to restart the kernel to use updated packages.\n",
      "\n",
      "Requirement already satisfied: tensorflow-intel==2.17.0 in c:\\users\\kunal t\\anaconda3\\lib\\site-packages (from tensorflow) (2.17.0)\n",
      "Requirement already satisfied: absl-py>=1.0.0 in c:\\users\\kunal t\\anaconda3\\lib\\site-packages (from tensorflow-intel==2.17.0->tensorflow) (2.1.0)\n",
      "Requirement already satisfied: astunparse>=1.6.0 in c:\\users\\kunal t\\anaconda3\\lib\\site-packages (from tensorflow-intel==2.17.0->tensorflow) (1.6.3)\n",
      "Requirement already satisfied: flatbuffers>=24.3.25 in c:\\users\\kunal t\\anaconda3\\lib\\site-packages (from tensorflow-intel==2.17.0->tensorflow) (24.3.25)\n",
      "Requirement already satisfied: gast!=0.5.0,!=0.5.1,!=0.5.2,>=0.2.1 in c:\\users\\kunal t\\anaconda3\\lib\\site-packages (from tensorflow-intel==2.17.0->tensorflow) (0.6.0)\n",
      "Requirement already satisfied: google-pasta>=0.1.1 in c:\\users\\kunal t\\anaconda3\\lib\\site-packages (from tensorflow-intel==2.17.0->tensorflow) (0.2.0)\n",
      "Requirement already satisfied: h5py>=3.10.0 in c:\\users\\kunal t\\anaconda3\\lib\\site-packages (from tensorflow-intel==2.17.0->tensorflow) (3.12.1)\n",
      "Requirement already satisfied: libclang>=13.0.0 in c:\\users\\kunal t\\anaconda3\\lib\\site-packages (from tensorflow-intel==2.17.0->tensorflow) (18.1.1)\n",
      "Requirement already satisfied: ml-dtypes<0.5.0,>=0.3.1 in c:\\users\\kunal t\\anaconda3\\lib\\site-packages (from tensorflow-intel==2.17.0->tensorflow) (0.4.1)\n",
      "Requirement already satisfied: opt-einsum>=2.3.2 in c:\\users\\kunal t\\anaconda3\\lib\\site-packages (from tensorflow-intel==2.17.0->tensorflow) (3.4.0)\n",
      "Requirement already satisfied: packaging in c:\\users\\kunal t\\anaconda3\\lib\\site-packages (from tensorflow-intel==2.17.0->tensorflow) (23.1)\n",
      "Requirement already satisfied: protobuf!=4.21.0,!=4.21.1,!=4.21.2,!=4.21.3,!=4.21.4,!=4.21.5,<5.0.0dev,>=3.20.3 in c:\\users\\kunal t\\anaconda3\\lib\\site-packages (from tensorflow-intel==2.17.0->tensorflow) (4.25.5)\n",
      "Requirement already satisfied: requests<3,>=2.21.0 in c:\\users\\kunal t\\anaconda3\\lib\\site-packages (from tensorflow-intel==2.17.0->tensorflow) (2.31.0)\n",
      "Requirement already satisfied: setuptools in c:\\users\\kunal t\\anaconda3\\lib\\site-packages (from tensorflow-intel==2.17.0->tensorflow) (68.0.0)\n",
      "Requirement already satisfied: six>=1.12.0 in c:\\users\\kunal t\\anaconda3\\lib\\site-packages (from tensorflow-intel==2.17.0->tensorflow) (1.16.0)\n",
      "Requirement already satisfied: termcolor>=1.1.0 in c:\\users\\kunal t\\anaconda3\\lib\\site-packages (from tensorflow-intel==2.17.0->tensorflow) (2.4.0)\n",
      "Requirement already satisfied: typing-extensions>=3.6.6 in c:\\users\\kunal t\\anaconda3\\lib\\site-packages (from tensorflow-intel==2.17.0->tensorflow) (4.7.1)\n",
      "Requirement already satisfied: wrapt>=1.11.0 in c:\\users\\kunal t\\anaconda3\\lib\\site-packages (from tensorflow-intel==2.17.0->tensorflow) (1.14.1)\n",
      "Requirement already satisfied: grpcio<2.0,>=1.24.3 in c:\\users\\kunal t\\anaconda3\\lib\\site-packages (from tensorflow-intel==2.17.0->tensorflow) (1.66.1)\n",
      "Requirement already satisfied: tensorboard<2.18,>=2.17 in c:\\users\\kunal t\\anaconda3\\lib\\site-packages (from tensorflow-intel==2.17.0->tensorflow) (2.17.1)\n",
      "Requirement already satisfied: keras>=3.2.0 in c:\\users\\kunal t\\anaconda3\\lib\\site-packages (from tensorflow-intel==2.17.0->tensorflow) (3.5.0)\n",
      "Requirement already satisfied: tensorflow-io-gcs-filesystem>=0.23.1 in c:\\users\\kunal t\\anaconda3\\lib\\site-packages (from tensorflow-intel==2.17.0->tensorflow) (0.31.0)\n",
      "Requirement already satisfied: numpy<2.0.0,>=1.23.5 in c:\\users\\kunal t\\anaconda3\\lib\\site-packages (from tensorflow-intel==2.17.0->tensorflow) (1.24.3)\n",
      "Requirement already satisfied: wheel<1.0,>=0.23.0 in c:\\users\\kunal t\\anaconda3\\lib\\site-packages (from astunparse>=1.6.0->tensorflow-intel==2.17.0->tensorflow) (0.38.4)\n",
      "Requirement already satisfied: rich in c:\\users\\kunal t\\anaconda3\\lib\\site-packages (from keras>=3.2.0->tensorflow-intel==2.17.0->tensorflow) (13.8.1)\n",
      "Requirement already satisfied: namex in c:\\users\\kunal t\\anaconda3\\lib\\site-packages (from keras>=3.2.0->tensorflow-intel==2.17.0->tensorflow) (0.0.8)\n",
      "Requirement already satisfied: optree in c:\\users\\kunal t\\anaconda3\\lib\\site-packages (from keras>=3.2.0->tensorflow-intel==2.17.0->tensorflow) (0.12.1)\n",
      "Requirement already satisfied: charset-normalizer<4,>=2 in c:\\users\\kunal t\\anaconda3\\lib\\site-packages (from requests<3,>=2.21.0->tensorflow-intel==2.17.0->tensorflow) (2.0.4)\n",
      "Requirement already satisfied: idna<4,>=2.5 in c:\\users\\kunal t\\anaconda3\\lib\\site-packages (from requests<3,>=2.21.0->tensorflow-intel==2.17.0->tensorflow) (3.4)\n",
      "Requirement already satisfied: urllib3<3,>=1.21.1 in c:\\users\\kunal t\\anaconda3\\lib\\site-packages (from requests<3,>=2.21.0->tensorflow-intel==2.17.0->tensorflow) (1.26.16)\n",
      "Requirement already satisfied: certifi>=2017.4.17 in c:\\users\\kunal t\\anaconda3\\lib\\site-packages (from requests<3,>=2.21.0->tensorflow-intel==2.17.0->tensorflow) (2024.6.2)\n",
      "Requirement already satisfied: markdown>=2.6.8 in c:\\users\\kunal t\\anaconda3\\lib\\site-packages (from tensorboard<2.18,>=2.17->tensorflow-intel==2.17.0->tensorflow) (3.4.1)\n",
      "Requirement already satisfied: tensorboard-data-server<0.8.0,>=0.7.0 in c:\\users\\kunal t\\anaconda3\\lib\\site-packages (from tensorboard<2.18,>=2.17->tensorflow-intel==2.17.0->tensorflow) (0.7.2)\n",
      "Requirement already satisfied: werkzeug>=1.0.1 in c:\\users\\kunal t\\anaconda3\\lib\\site-packages (from tensorboard<2.18,>=2.17->tensorflow-intel==2.17.0->tensorflow) (2.2.3)\n",
      "Requirement already satisfied: MarkupSafe>=2.1.1 in c:\\users\\kunal t\\anaconda3\\lib\\site-packages (from werkzeug>=1.0.1->tensorboard<2.18,>=2.17->tensorflow-intel==2.17.0->tensorflow) (2.1.1)\n",
      "Requirement already satisfied: markdown-it-py>=2.2.0 in c:\\users\\kunal t\\anaconda3\\lib\\site-packages (from rich->keras>=3.2.0->tensorflow-intel==2.17.0->tensorflow) (2.2.0)\n",
      "Requirement already satisfied: pygments<3.0.0,>=2.13.0 in c:\\users\\kunal t\\anaconda3\\lib\\site-packages (from rich->keras>=3.2.0->tensorflow-intel==2.17.0->tensorflow) (2.15.1)\n",
      "Requirement already satisfied: mdurl~=0.1 in c:\\users\\kunal t\\anaconda3\\lib\\site-packages (from markdown-it-py>=2.2.0->rich->keras>=3.2.0->tensorflow-intel==2.17.0->tensorflow) (0.1.0)\n"
     ]
    }
   ],
   "source": [
    "pip install --upgrade tensorflow"
   ]
  },
  {
   "cell_type": "code",
   "execution_count": 1,
   "id": "8f32be23",
   "metadata": {},
   "outputs": [
    {
     "name": "stdout",
     "output_type": "stream",
     "text": [
      "Name: tensorflow\n",
      "Version: 2.17.0\n",
      "Summary: TensorFlow is an open source machine learning framework for everyone.\n",
      "Home-page: https://www.tensorflow.org/\n",
      "Author: Google Inc.\n",
      "Author-email: packages@tensorflow.org\n",
      "License: Apache 2.0\n",
      "Location: C:\\Users\\Kunal T\\anaconda3\\Lib\\site-packages\n",
      "Requires: tensorflow-intel\n",
      "Required-by: \n",
      "Note: you may need to restart the kernel to use updated packages.\n"
     ]
    }
   ],
   "source": [
    "pip show tensorflow"
   ]
  },
  {
   "cell_type": "code",
   "execution_count": 21,
   "id": "24850684",
   "metadata": {
    "scrolled": false
   },
   "outputs": [
    {
     "name": "stdout",
     "output_type": "stream",
     "text": [
      "Epoch 1/30\n",
      "\u001b[1m373/373\u001b[0m \u001b[32m━━━━━━━━━━━━━━━━━━━━\u001b[0m\u001b[37m\u001b[0m \u001b[1m5s\u001b[0m 8ms/step - accuracy: 0.2907 - loss: 2.0077 - val_accuracy: 0.3561 - val_loss: 1.5429\n",
      "Epoch 2/30\n",
      "\u001b[1m373/373\u001b[0m \u001b[32m━━━━━━━━━━━━━━━━━━━━\u001b[0m\u001b[37m\u001b[0m \u001b[1m3s\u001b[0m 8ms/step - accuracy: 0.3709 - loss: 1.5149 - val_accuracy: 0.4125 - val_loss: 1.4244\n",
      "Epoch 3/30\n",
      "\u001b[1m373/373\u001b[0m \u001b[32m━━━━━━━━━━━━━━━━━━━━\u001b[0m\u001b[37m\u001b[0m \u001b[1m3s\u001b[0m 7ms/step - accuracy: 0.4132 - loss: 1.4223 - val_accuracy: 0.4330 - val_loss: 1.3938\n",
      "Epoch 4/30\n",
      "\u001b[1m373/373\u001b[0m \u001b[32m━━━━━━━━━━━━━━━━━━━━\u001b[0m\u001b[37m\u001b[0m \u001b[1m3s\u001b[0m 7ms/step - accuracy: 0.4339 - loss: 1.3833 - val_accuracy: 0.4444 - val_loss: 1.3769\n",
      "Epoch 5/30\n",
      "\u001b[1m373/373\u001b[0m \u001b[32m━━━━━━━━━━━━━━━━━━━━\u001b[0m\u001b[37m\u001b[0m \u001b[1m3s\u001b[0m 7ms/step - accuracy: 0.4467 - loss: 1.3418 - val_accuracy: 0.4424 - val_loss: 1.3657\n",
      "Epoch 6/30\n",
      "\u001b[1m373/373\u001b[0m \u001b[32m━━━━━━━━━━━━━━━━━━━━\u001b[0m\u001b[37m\u001b[0m \u001b[1m3s\u001b[0m 7ms/step - accuracy: 0.4807 - loss: 1.2851 - val_accuracy: 0.4518 - val_loss: 1.3502\n",
      "Epoch 7/30\n",
      "\u001b[1m373/373\u001b[0m \u001b[32m━━━━━━━━━━━━━━━━━━━━\u001b[0m\u001b[37m\u001b[0m \u001b[1m3s\u001b[0m 8ms/step - accuracy: 0.4768 - loss: 1.2825 - val_accuracy: 0.4612 - val_loss: 1.3568\n",
      "Epoch 8/30\n",
      "\u001b[1m373/373\u001b[0m \u001b[32m━━━━━━━━━━━━━━━━━━━━\u001b[0m\u001b[37m\u001b[0m \u001b[1m3s\u001b[0m 8ms/step - accuracy: 0.5025 - loss: 1.2341 - val_accuracy: 0.4595 - val_loss: 1.3381\n",
      "Epoch 9/30\n",
      "\u001b[1m373/373\u001b[0m \u001b[32m━━━━━━━━━━━━━━━━━━━━\u001b[0m\u001b[37m\u001b[0m \u001b[1m3s\u001b[0m 7ms/step - accuracy: 0.5112 - loss: 1.2098 - val_accuracy: 0.4649 - val_loss: 1.3658\n",
      "Epoch 10/30\n",
      "\u001b[1m373/373\u001b[0m \u001b[32m━━━━━━━━━━━━━━━━━━━━\u001b[0m\u001b[37m\u001b[0m \u001b[1m3s\u001b[0m 7ms/step - accuracy: 0.5274 - loss: 1.1732 - val_accuracy: 0.4629 - val_loss: 1.3402\n",
      "Epoch 11/30\n",
      "\u001b[1m373/373\u001b[0m \u001b[32m━━━━━━━━━━━━━━━━━━━━\u001b[0m\u001b[37m\u001b[0m \u001b[1m3s\u001b[0m 8ms/step - accuracy: 0.5354 - loss: 1.1554 - val_accuracy: 0.4676 - val_loss: 1.3576\n",
      "Epoch 12/30\n",
      "\u001b[1m373/373\u001b[0m \u001b[32m━━━━━━━━━━━━━━━━━━━━\u001b[0m\u001b[37m\u001b[0m \u001b[1m3s\u001b[0m 7ms/step - accuracy: 0.5465 - loss: 1.1116 - val_accuracy: 0.4736 - val_loss: 1.3647\n",
      "Epoch 13/30\n",
      "\u001b[1m373/373\u001b[0m \u001b[32m━━━━━━━━━━━━━━━━━━━━\u001b[0m\u001b[37m\u001b[0m \u001b[1m3s\u001b[0m 7ms/step - accuracy: 0.5653 - loss: 1.0851 - val_accuracy: 0.4800 - val_loss: 1.3579\n",
      "Epoch 14/30\n",
      "\u001b[1m373/373\u001b[0m \u001b[32m━━━━━━━━━━━━━━━━━━━━\u001b[0m\u001b[37m\u001b[0m \u001b[1m3s\u001b[0m 7ms/step - accuracy: 0.5826 - loss: 1.0459 - val_accuracy: 0.4709 - val_loss: 1.3883\n",
      "Epoch 15/30\n",
      "\u001b[1m373/373\u001b[0m \u001b[32m━━━━━━━━━━━━━━━━━━━━\u001b[0m\u001b[37m\u001b[0m \u001b[1m3s\u001b[0m 7ms/step - accuracy: 0.5825 - loss: 1.0299 - val_accuracy: 0.4746 - val_loss: 1.3648\n",
      "Epoch 16/30\n",
      "\u001b[1m373/373\u001b[0m \u001b[32m━━━━━━━━━━━━━━━━━━━━\u001b[0m\u001b[37m\u001b[0m \u001b[1m3s\u001b[0m 7ms/step - accuracy: 0.6018 - loss: 0.9928 - val_accuracy: 0.4807 - val_loss: 1.3792\n",
      "Epoch 17/30\n",
      "\u001b[1m373/373\u001b[0m \u001b[32m━━━━━━━━━━━━━━━━━━━━\u001b[0m\u001b[37m\u001b[0m \u001b[1m2s\u001b[0m 6ms/step - accuracy: 0.6121 - loss: 0.9746 - val_accuracy: 0.4814 - val_loss: 1.4004\n",
      "Epoch 18/30\n",
      "\u001b[1m373/373\u001b[0m \u001b[32m━━━━━━━━━━━━━━━━━━━━\u001b[0m\u001b[37m\u001b[0m \u001b[1m2s\u001b[0m 6ms/step - accuracy: 0.6210 - loss: 0.9265 - val_accuracy: 0.4669 - val_loss: 1.4026\n",
      "Epoch 19/30\n",
      "\u001b[1m373/373\u001b[0m \u001b[32m━━━━━━━━━━━━━━━━━━━━\u001b[0m\u001b[37m\u001b[0m \u001b[1m3s\u001b[0m 7ms/step - accuracy: 0.6320 - loss: 0.9252 - val_accuracy: 0.4840 - val_loss: 1.4145\n",
      "Epoch 20/30\n",
      "\u001b[1m373/373\u001b[0m \u001b[32m━━━━━━━━━━━━━━━━━━━━\u001b[0m\u001b[37m\u001b[0m \u001b[1m2s\u001b[0m 6ms/step - accuracy: 0.6330 - loss: 0.9133 - val_accuracy: 0.4800 - val_loss: 1.4615\n",
      "Epoch 21/30\n",
      "\u001b[1m373/373\u001b[0m \u001b[32m━━━━━━━━━━━━━━━━━━━━\u001b[0m\u001b[37m\u001b[0m \u001b[1m2s\u001b[0m 6ms/step - accuracy: 0.6452 - loss: 0.8829 - val_accuracy: 0.4887 - val_loss: 1.4534\n",
      "Epoch 22/30\n",
      "\u001b[1m373/373\u001b[0m \u001b[32m━━━━━━━━━━━━━━━━━━━━\u001b[0m\u001b[37m\u001b[0m \u001b[1m2s\u001b[0m 6ms/step - accuracy: 0.6638 - loss: 0.8344 - val_accuracy: 0.4844 - val_loss: 1.5049\n",
      "Epoch 23/30\n",
      "\u001b[1m373/373\u001b[0m \u001b[32m━━━━━━━━━━━━━━━━━━━━\u001b[0m\u001b[37m\u001b[0m \u001b[1m2s\u001b[0m 6ms/step - accuracy: 0.6748 - loss: 0.8162 - val_accuracy: 0.4803 - val_loss: 1.5106\n",
      "Epoch 24/30\n",
      "\u001b[1m373/373\u001b[0m \u001b[32m━━━━━━━━━━━━━━━━━━━━\u001b[0m\u001b[37m\u001b[0m \u001b[1m2s\u001b[0m 6ms/step - accuracy: 0.6751 - loss: 0.8067 - val_accuracy: 0.4696 - val_loss: 1.5584\n",
      "Epoch 25/30\n",
      "\u001b[1m373/373\u001b[0m \u001b[32m━━━━━━━━━━━━━━━━━━━━\u001b[0m\u001b[37m\u001b[0m \u001b[1m2s\u001b[0m 7ms/step - accuracy: 0.6861 - loss: 0.7790 - val_accuracy: 0.4723 - val_loss: 1.5333\n",
      "Epoch 26/30\n",
      "\u001b[1m373/373\u001b[0m \u001b[32m━━━━━━━━━━━━━━━━━━━━\u001b[0m\u001b[37m\u001b[0m \u001b[1m2s\u001b[0m 6ms/step - accuracy: 0.6843 - loss: 0.7680 - val_accuracy: 0.4726 - val_loss: 1.5467\n",
      "Epoch 27/30\n",
      "\u001b[1m373/373\u001b[0m \u001b[32m━━━━━━━━━━━━━━━━━━━━\u001b[0m\u001b[37m\u001b[0m \u001b[1m2s\u001b[0m 7ms/step - accuracy: 0.7021 - loss: 0.7363 - val_accuracy: 0.4773 - val_loss: 1.5721\n",
      "Epoch 28/30\n",
      "\u001b[1m373/373\u001b[0m \u001b[32m━━━━━━━━━━━━━━━━━━━━\u001b[0m\u001b[37m\u001b[0m \u001b[1m3s\u001b[0m 7ms/step - accuracy: 0.7184 - loss: 0.7033 - val_accuracy: 0.4713 - val_loss: 1.5940\n",
      "Epoch 29/30\n",
      "\u001b[1m373/373\u001b[0m \u001b[32m━━━━━━━━━━━━━━━━━━━━\u001b[0m\u001b[37m\u001b[0m \u001b[1m2s\u001b[0m 6ms/step - accuracy: 0.7112 - loss: 0.7127 - val_accuracy: 0.4753 - val_loss: 1.6779\n",
      "Epoch 30/30\n",
      "\u001b[1m373/373\u001b[0m \u001b[32m━━━━━━━━━━━━━━━━━━━━\u001b[0m\u001b[37m\u001b[0m \u001b[1m2s\u001b[0m 7ms/step - accuracy: 0.7256 - loss: 0.6772 - val_accuracy: 0.4646 - val_loss: 1.6590\n"
     ]
    },
    {
     "data": {
      "text/plain": [
       "<keras.src.callbacks.history.History at 0x26d399c8810>"
      ]
     },
     "execution_count": 21,
     "metadata": {},
     "output_type": "execute_result"
    }
   ],
   "source": [
    "# CNN\n",
    "#from keras.models import Sequential\n",
    "from tensorflow.keras.models import Sequential\n",
    "from tensorflow.keras.layers import Conv1D, MaxPooling1D, Flatten, Dense, Dropout,Input, BatchNormalization\n",
    "\n",
    "# Build the CNN model\n",
    "def create_cnn_model(input_shape):\n",
    "    model = Sequential()\n",
    "    \n",
    "    # Explicitly define the input layer with the correct shape for CNN\n",
    "    model.add(Input(shape=input_shape))  # Reshape input to (timesteps, 1)\n",
    "\n",
    "    # 1st Convolutional layer\n",
    "    model.add(Conv1D(64, kernel_size=3, activation='relu'))\n",
    "    model.add(MaxPooling1D(pool_size=2))\n",
    "    model.add(BatchNormalization())\n",
    "\n",
    "    # 2nd Convolutional layer\n",
    "    model.add(Conv1D(128, kernel_size=3, activation='relu'))\n",
    "    model.add(MaxPooling1D(pool_size=2))\n",
    "    model.add(BatchNormalization())\n",
    "\n",
    "    # Flatten and Dense layers\n",
    "    model.add(Flatten())\n",
    "    model.add(Dense(128, activation='relu'))\n",
    "    model.add(Dropout(0.5))\n",
    "\n",
    "    # Output layer (for emotion classification)\n",
    "    model.add(Dense(6, activation='softmax'))  # Assuming 6 emotion classes\n",
    "    model.compile(optimizer='adam', loss='sparse_categorical_crossentropy', metrics=['accuracy'])\n",
    "    return model\n",
    "\n",
    "# Input shape (for example, if your features have 48 dimensions)\n",
    "input_shape = (X_train.shape[1], 1)  # 48 features (MFCC, spectral contrast, RMSE), reshape to fit CNN input\n",
    "\n",
    "cnn_model = create_cnn_model(input_shape)\n",
    "\n",
    "# Train the CNN model\n",
    "cnn_model.fit(X_train, y_train, epochs=30, batch_size=32, validation_data=(X_test, y_test))\n"
   ]
  },
  {
   "cell_type": "code",
   "execution_count": 23,
   "id": "8864a71d",
   "metadata": {
    "scrolled": true
   },
   "outputs": [
    {
     "name": "stdout",
     "output_type": "stream",
     "text": [
      "Epoch 1/30\n",
      "\u001b[1m373/373\u001b[0m \u001b[32m━━━━━━━━━━━━━━━━━━━━\u001b[0m\u001b[37m\u001b[0m \u001b[1m2s\u001b[0m 6ms/step - accuracy: 0.7335 - loss: 0.6729 - val_accuracy: 0.4709 - val_loss: 1.7155\n",
      "Epoch 2/30\n",
      "\u001b[1m373/373\u001b[0m \u001b[32m━━━━━━━━━━━━━━━━━━━━\u001b[0m\u001b[37m\u001b[0m \u001b[1m2s\u001b[0m 6ms/step - accuracy: 0.7257 - loss: 0.6690 - val_accuracy: 0.4726 - val_loss: 1.6805\n",
      "Epoch 3/30\n",
      "\u001b[1m373/373\u001b[0m \u001b[32m━━━━━━━━━━━━━━━━━━━━\u001b[0m\u001b[37m\u001b[0m \u001b[1m2s\u001b[0m 6ms/step - accuracy: 0.7253 - loss: 0.6655 - val_accuracy: 0.4662 - val_loss: 1.7926\n",
      "Epoch 4/30\n",
      "\u001b[1m373/373\u001b[0m \u001b[32m━━━━━━━━━━━━━━━━━━━━\u001b[0m\u001b[37m\u001b[0m \u001b[1m2s\u001b[0m 5ms/step - accuracy: 0.7365 - loss: 0.6651 - val_accuracy: 0.4730 - val_loss: 1.7511\n",
      "Epoch 5/30\n",
      "\u001b[1m373/373\u001b[0m \u001b[32m━━━━━━━━━━━━━━━━━━━━\u001b[0m\u001b[37m\u001b[0m \u001b[1m2s\u001b[0m 5ms/step - accuracy: 0.7458 - loss: 0.6253 - val_accuracy: 0.4773 - val_loss: 1.8193\n",
      "Epoch 6/30\n",
      "\u001b[1m373/373\u001b[0m \u001b[32m━━━━━━━━━━━━━━━━━━━━\u001b[0m\u001b[37m\u001b[0m \u001b[1m2s\u001b[0m 5ms/step - accuracy: 0.7362 - loss: 0.6377 - val_accuracy: 0.4632 - val_loss: 1.8014\n",
      "Epoch 7/30\n",
      "\u001b[1m373/373\u001b[0m \u001b[32m━━━━━━━━━━━━━━━━━━━━\u001b[0m\u001b[37m\u001b[0m \u001b[1m2s\u001b[0m 6ms/step - accuracy: 0.7518 - loss: 0.6182 - val_accuracy: 0.4726 - val_loss: 1.8538\n",
      "Epoch 8/30\n",
      "\u001b[1m373/373\u001b[0m \u001b[32m━━━━━━━━━━━━━━━━━━━━\u001b[0m\u001b[37m\u001b[0m \u001b[1m2s\u001b[0m 6ms/step - accuracy: 0.7535 - loss: 0.5975 - val_accuracy: 0.4716 - val_loss: 1.8308\n",
      "Epoch 9/30\n",
      "\u001b[1m373/373\u001b[0m \u001b[32m━━━━━━━━━━━━━━━━━━━━\u001b[0m\u001b[37m\u001b[0m \u001b[1m2s\u001b[0m 5ms/step - accuracy: 0.7652 - loss: 0.5784 - val_accuracy: 0.4736 - val_loss: 1.8790\n",
      "Epoch 10/30\n",
      "\u001b[1m373/373\u001b[0m \u001b[32m━━━━━━━━━━━━━━━━━━━━\u001b[0m\u001b[37m\u001b[0m \u001b[1m2s\u001b[0m 5ms/step - accuracy: 0.7641 - loss: 0.5917 - val_accuracy: 0.4834 - val_loss: 1.9342\n",
      "Epoch 11/30\n",
      "\u001b[1m373/373\u001b[0m \u001b[32m━━━━━━━━━━━━━━━━━━━━\u001b[0m\u001b[37m\u001b[0m \u001b[1m2s\u001b[0m 5ms/step - accuracy: 0.7564 - loss: 0.5989 - val_accuracy: 0.4753 - val_loss: 1.9189\n",
      "Epoch 12/30\n",
      "\u001b[1m373/373\u001b[0m \u001b[32m━━━━━━━━━━━━━━━━━━━━\u001b[0m\u001b[37m\u001b[0m \u001b[1m2s\u001b[0m 5ms/step - accuracy: 0.7797 - loss: 0.5473 - val_accuracy: 0.4696 - val_loss: 1.9444\n",
      "Epoch 13/30\n",
      "\u001b[1m373/373\u001b[0m \u001b[32m━━━━━━━━━━━━━━━━━━━━\u001b[0m\u001b[37m\u001b[0m \u001b[1m2s\u001b[0m 5ms/step - accuracy: 0.7707 - loss: 0.5810 - val_accuracy: 0.4676 - val_loss: 1.8961\n",
      "Epoch 14/30\n",
      "\u001b[1m373/373\u001b[0m \u001b[32m━━━━━━━━━━━━━━━━━━━━\u001b[0m\u001b[37m\u001b[0m \u001b[1m2s\u001b[0m 5ms/step - accuracy: 0.7679 - loss: 0.5656 - val_accuracy: 0.4740 - val_loss: 2.0301\n",
      "Epoch 15/30\n",
      "\u001b[1m373/373\u001b[0m \u001b[32m━━━━━━━━━━━━━━━━━━━━\u001b[0m\u001b[37m\u001b[0m \u001b[1m2s\u001b[0m 5ms/step - accuracy: 0.7861 - loss: 0.5308 - val_accuracy: 0.4716 - val_loss: 2.0636\n",
      "Epoch 16/30\n",
      "\u001b[1m373/373\u001b[0m \u001b[32m━━━━━━━━━━━━━━━━━━━━\u001b[0m\u001b[37m\u001b[0m \u001b[1m2s\u001b[0m 5ms/step - accuracy: 0.7751 - loss: 0.5450 - val_accuracy: 0.4783 - val_loss: 2.0381\n",
      "Epoch 17/30\n",
      "\u001b[1m373/373\u001b[0m \u001b[32m━━━━━━━━━━━━━━━━━━━━\u001b[0m\u001b[37m\u001b[0m \u001b[1m2s\u001b[0m 5ms/step - accuracy: 0.7814 - loss: 0.5287 - val_accuracy: 0.4706 - val_loss: 2.0997\n",
      "Epoch 18/30\n",
      "\u001b[1m373/373\u001b[0m \u001b[32m━━━━━━━━━━━━━━━━━━━━\u001b[0m\u001b[37m\u001b[0m \u001b[1m2s\u001b[0m 5ms/step - accuracy: 0.7866 - loss: 0.5301 - val_accuracy: 0.4720 - val_loss: 2.1153\n",
      "Epoch 19/30\n",
      "\u001b[1m373/373\u001b[0m \u001b[32m━━━━━━━━━━━━━━━━━━━━\u001b[0m\u001b[37m\u001b[0m \u001b[1m2s\u001b[0m 6ms/step - accuracy: 0.7818 - loss: 0.5262 - val_accuracy: 0.4666 - val_loss: 2.0883\n",
      "Epoch 20/30\n",
      "\u001b[1m373/373\u001b[0m \u001b[32m━━━━━━━━━━━━━━━━━━━━\u001b[0m\u001b[37m\u001b[0m \u001b[1m2s\u001b[0m 5ms/step - accuracy: 0.7952 - loss: 0.4956 - val_accuracy: 0.4720 - val_loss: 2.1715\n",
      "Epoch 21/30\n",
      "\u001b[1m373/373\u001b[0m \u001b[32m━━━━━━━━━━━━━━━━━━━━\u001b[0m\u001b[37m\u001b[0m \u001b[1m2s\u001b[0m 5ms/step - accuracy: 0.7947 - loss: 0.4936 - val_accuracy: 0.4605 - val_loss: 2.1045\n",
      "Epoch 22/30\n",
      "\u001b[1m373/373\u001b[0m \u001b[32m━━━━━━━━━━━━━━━━━━━━\u001b[0m\u001b[37m\u001b[0m \u001b[1m2s\u001b[0m 5ms/step - accuracy: 0.7974 - loss: 0.5023 - val_accuracy: 0.4689 - val_loss: 2.2281\n",
      "Epoch 23/30\n",
      "\u001b[1m373/373\u001b[0m \u001b[32m━━━━━━━━━━━━━━━━━━━━\u001b[0m\u001b[37m\u001b[0m \u001b[1m2s\u001b[0m 5ms/step - accuracy: 0.7995 - loss: 0.4963 - val_accuracy: 0.4693 - val_loss: 2.1019\n",
      "Epoch 24/30\n",
      "\u001b[1m373/373\u001b[0m \u001b[32m━━━━━━━━━━━━━━━━━━━━\u001b[0m\u001b[37m\u001b[0m \u001b[1m2s\u001b[0m 5ms/step - accuracy: 0.8055 - loss: 0.4878 - val_accuracy: 0.4750 - val_loss: 2.0878\n",
      "Epoch 25/30\n",
      "\u001b[1m373/373\u001b[0m \u001b[32m━━━━━━━━━━━━━━━━━━━━\u001b[0m\u001b[37m\u001b[0m \u001b[1m2s\u001b[0m 5ms/step - accuracy: 0.7850 - loss: 0.5229 - val_accuracy: 0.4686 - val_loss: 2.2696\n",
      "Epoch 26/30\n",
      "\u001b[1m373/373\u001b[0m \u001b[32m━━━━━━━━━━━━━━━━━━━━\u001b[0m\u001b[37m\u001b[0m \u001b[1m2s\u001b[0m 5ms/step - accuracy: 0.7800 - loss: 0.5335 - val_accuracy: 0.4632 - val_loss: 2.1573\n",
      "Epoch 27/30\n",
      "\u001b[1m373/373\u001b[0m \u001b[32m━━━━━━━━━━━━━━━━━━━━\u001b[0m\u001b[37m\u001b[0m \u001b[1m2s\u001b[0m 5ms/step - accuracy: 0.8078 - loss: 0.4659 - val_accuracy: 0.4599 - val_loss: 2.3164\n",
      "Epoch 28/30\n",
      "\u001b[1m373/373\u001b[0m \u001b[32m━━━━━━━━━━━━━━━━━━━━\u001b[0m\u001b[37m\u001b[0m \u001b[1m2s\u001b[0m 6ms/step - accuracy: 0.8112 - loss: 0.4591 - val_accuracy: 0.4723 - val_loss: 2.2983\n",
      "Epoch 29/30\n",
      "\u001b[1m373/373\u001b[0m \u001b[32m━━━━━━━━━━━━━━━━━━━━\u001b[0m\u001b[37m\u001b[0m \u001b[1m2s\u001b[0m 5ms/step - accuracy: 0.8205 - loss: 0.4326 - val_accuracy: 0.4632 - val_loss: 2.4010\n",
      "Epoch 30/30\n",
      "\u001b[1m373/373\u001b[0m \u001b[32m━━━━━━━━━━━━━━━━━━━━\u001b[0m\u001b[37m\u001b[0m \u001b[1m2s\u001b[0m 6ms/step - accuracy: 0.8203 - loss: 0.4553 - val_accuracy: 0.4709 - val_loss: 2.3196\n"
     ]
    },
    {
     "data": {
      "image/png": "[encoded data removed]",
      "text/plain": [
       "<Figure size 640x480 with 1 Axes>"
      ]
     },
     "metadata": {},
     "output_type": "display_data"
    }
   ],
   "source": [
    "cnnhistory = cnn_model.fit(X_train, y_train, epochs=30, batch_size=32, validation_data=(X_test, y_test))\n",
    "\n",
    "plt.plot(cnnhistory.history['loss'])\n",
    "plt.plot(cnnhistory.history['val_loss'])\n",
    "plt.title('model loss')\n",
    "plt.ylabel('loss')\n",
    "plt.xlabel('epoch')\n",
    "plt.legend(['train','test'],loc='upper left')\n",
    "plt.show()"
   ]
  },
  {
   "cell_type": "code",
   "execution_count": 24,
   "id": "873774d5",
   "metadata": {},
   "outputs": [
    {
     "data": {
      "image/png": "[encoded data removed]",
      "text/plain": [
       "<Figure size 640x480 with 1 Axes>"
      ]
     },
     "metadata": {},
     "output_type": "display_data"
    }
   ],
   "source": [
    "plt.plot(cnnhistory.history['accuracy'])\n",
    "plt.plot(cnnhistory.history['val_accuracy'])\n",
    "plt.title('model accuracy')\n",
    "plt.ylabel('accuracy')\n",
    "plt.xlabel('epoch')\n",
    "plt.legend(['train','test'],loc='upper left')\n",
    "plt.show()"
   ]
  },
  {
   "cell_type": "markdown",
   "id": "9e0f47b4",
   "metadata": {},
   "source": [
    "### Number of features extracted"
   ]
  },
  {
   "cell_type": "code",
   "execution_count": 34,
   "id": "b9d6dc12",
   "metadata": {
    "scrolled": true
   },
   "outputs": [
    {
     "name": "stdout",
     "output_type": "stream",
     "text": [
      "Features extracted:48\n"
     ]
    }
   ],
   "source": [
    "print(f'Features extracted:{X_train.shape[1]}')"
   ]
  },
  {
   "cell_type": "markdown",
   "id": "cea5b30f",
   "metadata": {},
   "source": [
    "### Results"
   ]
  },
  {
   "cell_type": "code",
   "execution_count": 34,
   "id": "cfb8a096",
   "metadata": {
    "scrolled": true
   },
   "outputs": [
    {
     "name": "stdout",
     "output_type": "stream",
     "text": [
      "      True Label Predicted Label\n",
      "0            ANG             ANG\n",
      "1            DIS             DIS\n",
      "2            FEA             ANG\n",
      "3            HAP             HAP\n",
      "4            NEU             HAP\n",
      "...          ...             ...\n",
      "14879        DIS             DIS\n",
      "14880        FEA             FEA\n",
      "14881        HAP             DIS\n",
      "14882        NEU             DIS\n",
      "14883        SAD             SAD\n",
      "\n",
      "[14884 rows x 2 columns]\n"
     ]
    }
   ],
   "source": [
    "# Gradient Boost\n",
    "\n",
    "# Convert to DataFrame for easier handling (optional)\n",
    "features_df = pd.DataFrame(features)\n",
    "labels_df = pd.Series(labels)\n",
    "\n",
    "# Split the data into training and testing sets (80% training, 20% testing)\n",
    "X_train, X_test, y_train, y_test = train_test_split(features_df, labels_df, test_size=0.2, random_state=42)\n",
    "\n",
    "# Load your trained model\n",
    "\n",
    "#rf_model = RandomForestClassifier()\n",
    "\n",
    "#svm_model = SVC()\n",
    "\n",
    "\n",
    "gb_model = GradientBoostingClassifier()\n",
    "\n",
    "# Train (fit) the model\n",
    "gb_model.fit(X_train, y_train)\n",
    "\n",
    "# Make predictions\n",
    "predictions = gb_model.predict(features_df)\n",
    "\n",
    "# Show real vs predicted values\n",
    "results_df = pd.DataFrame({\n",
    "    'True Label': labels,\n",
    "    'Predicted Label': predictions\n",
    "})\n",
    "\n",
    "# Display the results\n",
    "print(results_df)\n",
    "\n",
    "# Optionally save to a CSV file\n",
    "#results_df.to_csv('emotion_detection_results.csv', index=False)"
   ]
  },
  {
   "cell_type": "code",
   "execution_count": 24,
   "id": "359bb4d8",
   "metadata": {},
   "outputs": [
    {
     "name": "stdout",
     "output_type": "stream",
     "text": [
      "      True Label Predicted Label\n",
      "0            ANG             HAP\n",
      "1            DIS             HAP\n",
      "2            FEA             HAP\n",
      "3            HAP             HAP\n",
      "4            NEU             HAP\n",
      "...          ...             ...\n",
      "14879        DIS             SAD\n",
      "14880        FEA             SAD\n",
      "14881        HAP             FEA\n",
      "14882        NEU             SAD\n",
      "14883        SAD             SAD\n",
      "\n",
      "[14884 rows x 2 columns]\n"
     ]
    }
   ],
   "source": [
    "# SVM\n",
    "\n",
    "# Convert to DataFrame for easier handling (optional)\n",
    "features_df = pd.DataFrame(features)\n",
    "labels_df = pd.Series(labels)\n",
    "\n",
    "# Split the data into training and testing sets (80% training, 20% testing)\n",
    "X_train, X_test, y_train, y_test = train_test_split(features_df, labels_df, test_size=0.2, random_state=42)\n",
    "\n",
    "# Load your trained model\n",
    "\n",
    "#rf_model = RandomForestClassifier()\n",
    "\n",
    "svm_model = SVC()\n",
    "\n",
    "#gb_model = GradientBoostingClassifier()\n",
    "\n",
    "# Train (fit) the model\n",
    "svm_model.fit(X_train, y_train)\n",
    "\n",
    "# Make predictions\n",
    "predictions = svm_model.predict(features_df)\n",
    "\n",
    "# Show real vs predicted values\n",
    "results_df = pd.DataFrame({\n",
    "    'True Label': labels,\n",
    "    'Predicted Label': predictions\n",
    "})\n",
    "\n",
    "# Display the results\n",
    "print(results_df)\n",
    "\n",
    "# Optionally save to a CSV file\n",
    "#results_df.to_csv('emotion_detection_results.csv', index=False)"
   ]
  },
  {
   "cell_type": "code",
   "execution_count": 22,
   "id": "8aed56e5",
   "metadata": {},
   "outputs": [
    {
     "name": "stdout",
     "output_type": "stream",
     "text": [
      "\u001b[1m94/94\u001b[0m \u001b[32m━━━━━━━━━━━━━━━━━━━━\u001b[0m\u001b[37m\u001b[0m \u001b[1m0s\u001b[0m 3ms/step\n",
      "       True Label  Predicted Label\n",
      "10937           0                3\n",
      "5219            2                2\n",
      "3745            4                4\n",
      "7639            0                0\n",
      "2301            2                2\n",
      "...           ...              ...\n",
      "10655           0                1\n",
      "4026            5                5\n",
      "3059            4                4\n",
      "8119            0                2\n",
      "11807           4                4\n",
      "\n",
      "[2977 rows x 2 columns]\n",
      "CNN Model Accuracy: 46.46%\n"
     ]
    }
   ],
   "source": [
    "# CNN\n",
    "\n",
    "# Make predictions on the test set\n",
    "predictions = cnn_model.predict(X_test)\n",
    "\n",
    "# Get the predicted label indices (i.e., the class with the highest probability)\n",
    "predicted_labels = np.argmax(predictions, axis=1)\n",
    "\n",
    "# Get the true label indices from the one-hot encoded y_test\n",
    "true_labels = y_test\n",
    "\n",
    "# Show real vs predicted values for the test set\n",
    "results_df = pd.DataFrame({\n",
    "    'True Label': true_labels,\n",
    "    'Predicted Label': predicted_labels\n",
    "})\n",
    "\n",
    "# Display the results\n",
    "print(results_df)\n",
    "\n",
    "# Optionally, calculate and display the accuracy of the CNN model\n",
    "accuracy = accuracy_score(true_labels, predicted_labels)\n",
    "print(f\"CNN Model Accuracy: {accuracy * 100:.2f}%\")\n"
   ]
  },
  {
   "cell_type": "markdown",
   "id": "d856ff3f",
   "metadata": {},
   "source": [
    "### Model Performance Comparison"
   ]
  },
  {
   "cell_type": "code",
   "execution_count": 29,
   "id": "e9c977bb",
   "metadata": {},
   "outputs": [],
   "source": [
    "import tensorflow as tf"
   ]
  },
  {
   "cell_type": "code",
   "execution_count": 33,
   "id": "9ce3164e",
   "metadata": {},
   "outputs": [
    {
     "ename": "UnimplementedError",
     "evalue": "Graph execution error:\n\nDetected at node compile_loss/sparse_categorical_crossentropy/Cast defined at (most recent call last):\n  File \"<frozen runpy>\", line 198, in _run_module_as_main\n\n  File \"<frozen runpy>\", line 88, in _run_code\n\n  File \"C:\\Users\\Kunal T\\anaconda3\\Lib\\site-packages\\ipykernel_launcher.py\", line 17, in <module>\n\n  File \"C:\\Users\\Kunal T\\anaconda3\\Lib\\site-packages\\traitlets\\config\\application.py\", line 992, in launch_instance\n\n  File \"C:\\Users\\Kunal T\\anaconda3\\Lib\\site-packages\\ipykernel\\kernelapp.py\", line 736, in start\n\n  File \"C:\\Users\\Kunal T\\anaconda3\\Lib\\site-packages\\tornado\\platform\\asyncio.py\", line 195, in start\n\n  File \"C:\\Users\\Kunal T\\anaconda3\\Lib\\asyncio\\base_events.py\", line 607, in run_forever\n\n  File \"C:\\Users\\Kunal T\\anaconda3\\Lib\\asyncio\\base_events.py\", line 1922, in _run_once\n\n  File \"C:\\Users\\Kunal T\\anaconda3\\Lib\\asyncio\\events.py\", line 80, in _run\n\n  File \"C:\\Users\\Kunal T\\anaconda3\\Lib\\site-packages\\ipykernel\\kernelbase.py\", line 516, in dispatch_queue\n\n  File \"C:\\Users\\Kunal T\\anaconda3\\Lib\\site-packages\\ipykernel\\kernelbase.py\", line 505, in process_one\n\n  File \"C:\\Users\\Kunal T\\anaconda3\\Lib\\site-packages\\ipykernel\\kernelbase.py\", line 412, in dispatch_shell\n\n  File \"C:\\Users\\Kunal T\\anaconda3\\Lib\\site-packages\\ipykernel\\kernelbase.py\", line 740, in execute_request\n\n  File \"C:\\Users\\Kunal T\\anaconda3\\Lib\\site-packages\\ipykernel\\ipkernel.py\", line 422, in do_execute\n\n  File \"C:\\Users\\Kunal T\\anaconda3\\Lib\\site-packages\\ipykernel\\zmqshell.py\", line 546, in run_cell\n\n  File \"C:\\Users\\Kunal T\\anaconda3\\Lib\\site-packages\\IPython\\core\\interactiveshell.py\", line 3024, in run_cell\n\n  File \"C:\\Users\\Kunal T\\anaconda3\\Lib\\site-packages\\IPython\\core\\interactiveshell.py\", line 3079, in _run_cell\n\n  File \"C:\\Users\\Kunal T\\anaconda3\\Lib\\site-packages\\IPython\\core\\async_helpers.py\", line 129, in _pseudo_sync_runner\n\n  File \"C:\\Users\\Kunal T\\anaconda3\\Lib\\site-packages\\IPython\\core\\interactiveshell.py\", line 3284, in run_cell_async\n\n  File \"C:\\Users\\Kunal T\\anaconda3\\Lib\\site-packages\\IPython\\core\\interactiveshell.py\", line 3466, in run_ast_nodes\n\n  File \"C:\\Users\\Kunal T\\anaconda3\\Lib\\site-packages\\IPython\\core\\interactiveshell.py\", line 3526, in run_code\n\n  File \"C:\\Users\\Kunal T\\AppData\\Local\\Temp\\ipykernel_34796\\1216031517.py\", line 4, in <module>\n\n  File \"C:\\Users\\Kunal T\\anaconda3\\Lib\\site-packages\\keras\\src\\utils\\traceback_utils.py\", line 117, in error_handler\n\n  File \"C:\\Users\\Kunal T\\anaconda3\\Lib\\site-packages\\keras\\src\\backend\\tensorflow\\trainer.py\", line 433, in evaluate\n\n  File \"C:\\Users\\Kunal T\\anaconda3\\Lib\\site-packages\\keras\\src\\backend\\tensorflow\\trainer.py\", line 165, in one_step_on_iterator\n\n  File \"C:\\Users\\Kunal T\\anaconda3\\Lib\\site-packages\\keras\\src\\backend\\tensorflow\\trainer.py\", line 154, in one_step_on_data\n\n  File \"C:\\Users\\Kunal T\\anaconda3\\Lib\\site-packages\\keras\\src\\backend\\tensorflow\\trainer.py\", line 85, in test_step\n\n  File \"C:\\Users\\Kunal T\\anaconda3\\Lib\\site-packages\\keras\\src\\trainers\\trainer.py\", line 359, in _compute_loss\n\n  File \"C:\\Users\\Kunal T\\anaconda3\\Lib\\site-packages\\keras\\src\\trainers\\trainer.py\", line 327, in compute_loss\n\n  File \"C:\\Users\\Kunal T\\anaconda3\\Lib\\site-packages\\keras\\src\\trainers\\compile_utils.py\", line 611, in __call__\n\n  File \"C:\\Users\\Kunal T\\anaconda3\\Lib\\site-packages\\keras\\src\\trainers\\compile_utils.py\", line 652, in call\n\n  File \"C:\\Users\\Kunal T\\anaconda3\\Lib\\site-packages\\keras\\src\\losses\\loss.py\", line 56, in __call__\n\n  File \"C:\\Users\\Kunal T\\anaconda3\\Lib\\site-packages\\keras\\src\\tree\\tree_api.py\", line 148, in map_structure\n\n  File \"C:\\Users\\Kunal T\\anaconda3\\Lib\\site-packages\\keras\\src\\tree\\optree_impl.py\", line 79, in map_structure\n\n  File \"C:\\Users\\Kunal T\\anaconda3\\Lib\\site-packages\\optree\\ops.py\", line 747, in tree_map\n\n  File \"C:\\Users\\Kunal T\\anaconda3\\Lib\\site-packages\\keras\\src\\losses\\loss.py\", line 57, in <lambda>\n\n  File \"C:\\Users\\Kunal T\\anaconda3\\Lib\\site-packages\\keras\\src\\ops\\core.py\", line 822, in convert_to_tensor\n\n  File \"C:\\Users\\Kunal T\\anaconda3\\Lib\\site-packages\\keras\\src\\backend\\tensorflow\\core.py\", line 132, in convert_to_tensor\n\nCast string to float is not supported\n\t [[{{node compile_loss/sparse_categorical_crossentropy/Cast}}]] [Op:__inference_one_step_on_iterator_49411]",
     "output_type": "error",
     "traceback": [
      "\u001b[1;31m---------------------------------------------------------------------------\u001b[0m",
      "\u001b[1;31mUnimplementedError\u001b[0m                        Traceback (most recent call last)",
      "Cell \u001b[1;32mIn[33], line 4\u001b[0m\n\u001b[0;32m      2\u001b[0m svm_accuracy \u001b[38;5;241m=\u001b[39m svm_model\u001b[38;5;241m.\u001b[39mscore(X_test, y_test) \u001b[38;5;241m*\u001b[39m \u001b[38;5;241m100\u001b[39m  \u001b[38;5;66;03m# SVM accuracy\u001b[39;00m\n\u001b[0;32m      3\u001b[0m gb_accuracy \u001b[38;5;241m=\u001b[39m gb_model\u001b[38;5;241m.\u001b[39mscore(X_test, y_test) \u001b[38;5;241m*\u001b[39m \u001b[38;5;241m100\u001b[39m  \u001b[38;5;66;03m# Gradient Boost accuracy\u001b[39;00m\n\u001b[1;32m----> 4\u001b[0m cnn_accuracy \u001b[38;5;241m=\u001b[39m cnn_model\u001b[38;5;241m.\u001b[39mevaluate(X_test, y_test)[\u001b[38;5;241m1\u001b[39m] \u001b[38;5;241m*\u001b[39m \u001b[38;5;241m100\u001b[39m  \u001b[38;5;66;03m# CNN accuracy (evaluates on validation data)\u001b[39;00m\n\u001b[0;32m      6\u001b[0m \u001b[38;5;66;03m# Print individual model accuracies\u001b[39;00m\n\u001b[0;32m      7\u001b[0m \u001b[38;5;28mprint\u001b[39m(\u001b[38;5;124mf\u001b[39m\u001b[38;5;124m\"\u001b[39m\u001b[38;5;124mSVM Accuracy: \u001b[39m\u001b[38;5;132;01m{\u001b[39;00msvm_accuracy\u001b[38;5;132;01m:\u001b[39;00m\u001b[38;5;124m.2f\u001b[39m\u001b[38;5;132;01m}\u001b[39;00m\u001b[38;5;124m%\u001b[39m\u001b[38;5;124m\"\u001b[39m)\n",
      "File \u001b[1;32m~\\anaconda3\\Lib\\site-packages\\keras\\src\\utils\\traceback_utils.py:122\u001b[0m, in \u001b[0;36mfilter_traceback.<locals>.error_handler\u001b[1;34m(*args, **kwargs)\u001b[0m\n\u001b[0;32m    119\u001b[0m     filtered_tb \u001b[38;5;241m=\u001b[39m _process_traceback_frames(e\u001b[38;5;241m.\u001b[39m__traceback__)\n\u001b[0;32m    120\u001b[0m     \u001b[38;5;66;03m# To get the full stack trace, call:\u001b[39;00m\n\u001b[0;32m    121\u001b[0m     \u001b[38;5;66;03m# `keras.config.disable_traceback_filtering()`\u001b[39;00m\n\u001b[1;32m--> 122\u001b[0m     \u001b[38;5;28;01mraise\u001b[39;00m e\u001b[38;5;241m.\u001b[39mwith_traceback(filtered_tb) \u001b[38;5;28;01mfrom\u001b[39;00m \u001b[38;5;28;01mNone\u001b[39;00m\n\u001b[0;32m    123\u001b[0m \u001b[38;5;28;01mfinally\u001b[39;00m:\n\u001b[0;32m    124\u001b[0m     \u001b[38;5;28;01mdel\u001b[39;00m filtered_tb\n",
      "File \u001b[1;32m~\\anaconda3\\Lib\\site-packages\\tensorflow\\python\\eager\\execute.py:53\u001b[0m, in \u001b[0;36mquick_execute\u001b[1;34m(op_name, num_outputs, inputs, attrs, ctx, name)\u001b[0m\n\u001b[0;32m     51\u001b[0m \u001b[38;5;28;01mtry\u001b[39;00m:\n\u001b[0;32m     52\u001b[0m   ctx\u001b[38;5;241m.\u001b[39mensure_initialized()\n\u001b[1;32m---> 53\u001b[0m   tensors \u001b[38;5;241m=\u001b[39m pywrap_tfe\u001b[38;5;241m.\u001b[39mTFE_Py_Execute(ctx\u001b[38;5;241m.\u001b[39m_handle, device_name, op_name,\n\u001b[0;32m     54\u001b[0m                                       inputs, attrs, num_outputs)\n\u001b[0;32m     55\u001b[0m \u001b[38;5;28;01mexcept\u001b[39;00m core\u001b[38;5;241m.\u001b[39m_NotOkStatusException \u001b[38;5;28;01mas\u001b[39;00m e:\n\u001b[0;32m     56\u001b[0m   \u001b[38;5;28;01mif\u001b[39;00m name \u001b[38;5;129;01mis\u001b[39;00m \u001b[38;5;129;01mnot\u001b[39;00m \u001b[38;5;28;01mNone\u001b[39;00m:\n",
      "\u001b[1;31mUnimplementedError\u001b[0m: Graph execution error:\n\nDetected at node compile_loss/sparse_categorical_crossentropy/Cast defined at (most recent call last):\n  File \"<frozen runpy>\", line 198, in _run_module_as_main\n\n  File \"<frozen runpy>\", line 88, in _run_code\n\n  File \"C:\\Users\\Kunal T\\anaconda3\\Lib\\site-packages\\ipykernel_launcher.py\", line 17, in <module>\n\n  File \"C:\\Users\\Kunal T\\anaconda3\\Lib\\site-packages\\traitlets\\config\\application.py\", line 992, in launch_instance\n\n  File \"C:\\Users\\Kunal T\\anaconda3\\Lib\\site-packages\\ipykernel\\kernelapp.py\", line 736, in start\n\n  File \"C:\\Users\\Kunal T\\anaconda3\\Lib\\site-packages\\tornado\\platform\\asyncio.py\", line 195, in start\n\n  File \"C:\\Users\\Kunal T\\anaconda3\\Lib\\asyncio\\base_events.py\", line 607, in run_forever\n\n  File \"C:\\Users\\Kunal T\\anaconda3\\Lib\\asyncio\\base_events.py\", line 1922, in _run_once\n\n  File \"C:\\Users\\Kunal T\\anaconda3\\Lib\\asyncio\\events.py\", line 80, in _run\n\n  File \"C:\\Users\\Kunal T\\anaconda3\\Lib\\site-packages\\ipykernel\\kernelbase.py\", line 516, in dispatch_queue\n\n  File \"C:\\Users\\Kunal T\\anaconda3\\Lib\\site-packages\\ipykernel\\kernelbase.py\", line 505, in process_one\n\n  File \"C:\\Users\\Kunal T\\anaconda3\\Lib\\site-packages\\ipykernel\\kernelbase.py\", line 412, in dispatch_shell\n\n  File \"C:\\Users\\Kunal T\\anaconda3\\Lib\\site-packages\\ipykernel\\kernelbase.py\", line 740, in execute_request\n\n  File \"C:\\Users\\Kunal T\\anaconda3\\Lib\\site-packages\\ipykernel\\ipkernel.py\", line 422, in do_execute\n\n  File \"C:\\Users\\Kunal T\\anaconda3\\Lib\\site-packages\\ipykernel\\zmqshell.py\", line 546, in run_cell\n\n  File \"C:\\Users\\Kunal T\\anaconda3\\Lib\\site-packages\\IPython\\core\\interactiveshell.py\", line 3024, in run_cell\n\n  File \"C:\\Users\\Kunal T\\anaconda3\\Lib\\site-packages\\IPython\\core\\interactiveshell.py\", line 3079, in _run_cell\n\n  File \"C:\\Users\\Kunal T\\anaconda3\\Lib\\site-packages\\IPython\\core\\async_helpers.py\", line 129, in _pseudo_sync_runner\n\n  File \"C:\\Users\\Kunal T\\anaconda3\\Lib\\site-packages\\IPython\\core\\interactiveshell.py\", line 3284, in run_cell_async\n\n  File \"C:\\Users\\Kunal T\\anaconda3\\Lib\\site-packages\\IPython\\core\\interactiveshell.py\", line 3466, in run_ast_nodes\n\n  File \"C:\\Users\\Kunal T\\anaconda3\\Lib\\site-packages\\IPython\\core\\interactiveshell.py\", line 3526, in run_code\n\n  File \"C:\\Users\\Kunal T\\AppData\\Local\\Temp\\ipykernel_34796\\1216031517.py\", line 4, in <module>\n\n  File \"C:\\Users\\Kunal T\\anaconda3\\Lib\\site-packages\\keras\\src\\utils\\traceback_utils.py\", line 117, in error_handler\n\n  File \"C:\\Users\\Kunal T\\anaconda3\\Lib\\site-packages\\keras\\src\\backend\\tensorflow\\trainer.py\", line 433, in evaluate\n\n  File \"C:\\Users\\Kunal T\\anaconda3\\Lib\\site-packages\\keras\\src\\backend\\tensorflow\\trainer.py\", line 165, in one_step_on_iterator\n\n  File \"C:\\Users\\Kunal T\\anaconda3\\Lib\\site-packages\\keras\\src\\backend\\tensorflow\\trainer.py\", line 154, in one_step_on_data\n\n  File \"C:\\Users\\Kunal T\\anaconda3\\Lib\\site-packages\\keras\\src\\backend\\tensorflow\\trainer.py\", line 85, in test_step\n\n  File \"C:\\Users\\Kunal T\\anaconda3\\Lib\\site-packages\\keras\\src\\trainers\\trainer.py\", line 359, in _compute_loss\n\n  File \"C:\\Users\\Kunal T\\anaconda3\\Lib\\site-packages\\keras\\src\\trainers\\trainer.py\", line 327, in compute_loss\n\n  File \"C:\\Users\\Kunal T\\anaconda3\\Lib\\site-packages\\keras\\src\\trainers\\compile_utils.py\", line 611, in __call__\n\n  File \"C:\\Users\\Kunal T\\anaconda3\\Lib\\site-packages\\keras\\src\\trainers\\compile_utils.py\", line 652, in call\n\n  File \"C:\\Users\\Kunal T\\anaconda3\\Lib\\site-packages\\keras\\src\\losses\\loss.py\", line 56, in __call__\n\n  File \"C:\\Users\\Kunal T\\anaconda3\\Lib\\site-packages\\keras\\src\\tree\\tree_api.py\", line 148, in map_structure\n\n  File \"C:\\Users\\Kunal T\\anaconda3\\Lib\\site-packages\\keras\\src\\tree\\optree_impl.py\", line 79, in map_structure\n\n  File \"C:\\Users\\Kunal T\\anaconda3\\Lib\\site-packages\\optree\\ops.py\", line 747, in tree_map\n\n  File \"C:\\Users\\Kunal T\\anaconda3\\Lib\\site-packages\\keras\\src\\losses\\loss.py\", line 57, in <lambda>\n\n  File \"C:\\Users\\Kunal T\\anaconda3\\Lib\\site-packages\\keras\\src\\ops\\core.py\", line 822, in convert_to_tensor\n\n  File \"C:\\Users\\Kunal T\\anaconda3\\Lib\\site-packages\\keras\\src\\backend\\tensorflow\\core.py\", line 132, in convert_to_tensor\n\nCast string to float is not supported\n\t [[{{node compile_loss/sparse_categorical_crossentropy/Cast}}]] [Op:__inference_one_step_on_iterator_49411]"
     ]
    }
   ],
   "source": [
    "# Store the accuracies of the three models\n",
    "svm_accuracy = svm_model.score(X_test, y_test) * 100  # SVM accuracy\n",
    "gb_accuracy = gb_model.score(X_test, y_test) * 100  # Gradient Boost accuracy\n",
    "cnn_accuracy = cnn_model.evaluate(X_test, y_test)[1] * 100  # CNN accuracy (evaluates on validation data)\n",
    "\n",
    "# Print individual model accuracies\n",
    "print(f\"SVM Accuracy: {svm_accuracy:.2f}%\")\n",
    "print(f\"Gradient Boosting Accuracy: {gb_accuracy:.2f}%\")\n",
    "print(f\"CNN Accuracy: {cnn_accuracy:.2f}%\")"
   ]
  },
  {
   "cell_type": "code",
   "execution_count": 112,
   "id": "fb9260e5",
   "metadata": {},
   "outputs": [
    {
     "data": {
      "image/png": "[encoded data removed]",
      "text/plain": [
       "<Figure size 800x600 with 1 Axes>"
      ]
     },
     "metadata": {},
     "output_type": "display_data"
    }
   ],
   "source": [
    "import matplotlib.pyplot as plt\n",
    "\n",
    "# Create a list of model names\n",
    "model_names = ['SVM', 'Gradient Boosting', 'CNN']\n",
    "\n",
    "# Create a list of the accuracies from your models\n",
    "accuracies = [svm_accuracy, gb_accuracy, cnn_accuracy]\n",
    "\n",
    "# Plot the accuracies using a bar chart\n",
    "plt.figure(figsize=(8, 6))\n",
    "plt.bar(model_names, accuracies, color=['blue', 'cyan', 'pink'])\n",
    "\n",
    "# Add title and labels\n",
    "plt.title('Comparison of Model Accuracies', fontsize=16)\n",
    "plt.xlabel('Models', fontsize=12)\n",
    "plt.ylabel('Accuracy (%)', fontsize=12)\n",
    "\n",
    "# Show the plot\n",
    "plt.show()"
   ]
  },
  {
   "cell_type": "markdown",
   "id": "63548821",
   "metadata": {},
   "source": [
    "### Comparative table"
   ]
  },
  {
   "cell_type": "code",
   "execution_count": 113,
   "id": "097f1b5c",
   "metadata": {},
   "outputs": [
    {
     "name": "stdout",
     "output_type": "stream",
     "text": [
      "\u001b[1m94/94\u001b[0m \u001b[32m━━━━━━━━━━━━━━━━━━━━\u001b[0m\u001b[37m\u001b[0m \u001b[1m1s\u001b[0m 5ms/step - accuracy: 0.4663 - loss: 1.6579\n",
      "Comparative Table of Accuracies:\n",
      "               Model  Accuracy (%)\n",
      "0                SVM     43.668122\n",
      "1  Gradient Boosting     47.934162\n",
      "2                CNN     46.254620\n"
     ]
    }
   ],
   "source": [
    "svm_accuracy = svm_model.score(X_test, y_test) * 100  \n",
    "gb_accuracy = gb_model.score(X_test, y_test) * 100\n",
    "cnn_accuracy = cnn_model.evaluate(X_test, y_test)[1] * 100\n",
    "\n",
    "# Create a dictionary with model names and their corresponding accuracies\n",
    "accuracy_dict = {\n",
    "    'Model': ['SVM', 'Gradient Boosting', 'CNN'],\n",
    "    'Accuracy (%)': [svm_accuracy, gb_accuracy, cnn_accuracy]\n",
    "}\n",
    "\n",
    "# Create a DataFrame using the dictionary\n",
    "accuracy_df = pd.DataFrame(accuracy_dict)\n",
    "\n",
    "# Display the table\n",
    "print(\"Comparative Table of Accuracies:\")\n",
    "print(accuracy_df)"
   ]
  },
  {
   "cell_type": "code",
   "execution_count": null,
   "id": "2dd8143c",
   "metadata": {},
   "outputs": [],
   "source": []
  },
  {
   "cell_type": "code",
   "execution_count": 45,
   "id": "44910fd1",
   "metadata": {},
   "outputs": [
    {
     "name": "stdout",
     "output_type": "stream",
     "text": [
      "Accuracy:47.53%\n"
     ]
    }
   ],
   "source": [
    "#Calculate the accuracy of the model\n",
    "\n",
    "from sklearn.metrics import accuracy_score\n",
    "\n",
    "accuracy=accuracy_score(y_true=y_test,y_pred=y_pred)\n",
    "print(\"Accuracy:{:.2f}%\".format(accuracy*100))"
   ]
  },
  {
   "cell_type": "code",
   "execution_count": 49,
   "id": "93daf9d1",
   "metadata": {},
   "outputs": [
    {
     "name": "stdout",
     "output_type": "stream",
     "text": [
      "              precision    recall  f1-score   support\n",
      "\n",
      "           0       0.63      0.64      0.63       510\n",
      "           1       0.42      0.40      0.41       520\n",
      "           2       0.42      0.44      0.43       489\n",
      "           3       0.40      0.42      0.41       500\n",
      "           4       0.47      0.41      0.44       451\n",
      "           5       0.50      0.52      0.51       507\n",
      "\n",
      "    accuracy                           0.48      2977\n",
      "   macro avg       0.48      0.47      0.47      2977\n",
      "weighted avg       0.48      0.48      0.48      2977\n",
      "\n"
     ]
    }
   ],
   "source": [
    "# classification report\n",
    "\n",
    "from sklearn.metrics import classification_report\n",
    "\n",
    "print(classification_report(y_test,y_pred))"
   ]
  },
  {
   "cell_type": "code",
   "execution_count": 51,
   "id": "29e672da",
   "metadata": {},
   "outputs": [
    {
     "name": "stdout",
     "output_type": "stream",
     "text": [
      "[[325  54  41  76  12   2]\n",
      " [ 39 210  50  78  70  73]\n",
      " [ 37  56 217  71  28  80]\n",
      " [ 89  54  68 212  50  27]\n",
      " [ 19  64  39  64 187  78]\n",
      " [  5  59 103  24  52 264]]\n"
     ]
    }
   ],
   "source": [
    "#confusion matrix\n",
    "\n",
    "from sklearn.metrics import confusion_matrix\n",
    "\n",
    "matrix=confusion_matrix(y_test,y_pred)\n",
    "print(matrix)"
   ]
  },
  {
   "cell_type": "code",
   "execution_count": null,
   "id": "7b3907c7",
   "metadata": {},
   "outputs": [],
   "source": []
  },
  {
   "cell_type": "code",
   "execution_count": null,
   "id": "c0fd026a",
   "metadata": {},
   "outputs": [],
   "source": []
  },
  {
   "cell_type": "code",
   "execution_count": null,
   "id": "5f47bdc6",
   "metadata": {},
   "outputs": [],
   "source": []
  },
  {
   "cell_type": "code",
   "execution_count": null,
   "id": "a41be17c",
   "metadata": {},
   "outputs": [],
   "source": []
  }
 ],
 "metadata": {
  "kernelspec": {
   "display_name": "Python 3 (ipykernel)",
   "language": "python",
   "name": "python3"
  },
  "language_info": {
   "codemirror_mode": {
    "name": "ipython",
    "version": 3
   },
   "file_extension": ".py",
   "mimetype": "text/x-python",
   "name": "python",
   "nbconvert_exporter": "python",
   "pygments_lexer": "ipython3",
   "version": "3.11.5"
  }
 },
 "nbformat": 4,
 "nbformat_minor": 5
}
